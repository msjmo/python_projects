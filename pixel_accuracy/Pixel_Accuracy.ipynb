{
 "cells": [
  {
   "attachments": {},
   "cell_type": "markdown",
   "metadata": {},
   "source": [
    "## Pixel Accuracy in Image Segmentation = \n",
    "\n",
    "##    Correctly predicted pixels divided by total number of pixels"
   ]
  },
  {
   "cell_type": "code",
   "execution_count": null,
   "metadata": {},
   "outputs": [],
   "source": [
    "import torch\n",
    "import torch.nn as nn\n",
    "import torch.nn.functional as F\n",
    "\n",
    "def pixel_accuracy(output, gt):\n",
    "    \"\"\"\n",
    "    Computes the pixel-wise accuracy of the predictions.\n",
    "\n",
    "    This function takes as input the model's raw output and the ground truth, applies a softmax \n",
    "    operation to the output, selects the class with the highest probability as the predicted class \n",
    "    for each pixel, and then compares the predictions with the ground truth to compute the accuracy.\n",
    "\n",
    "    Parameters:\n",
    "    -----------\n",
    "    output : torch.Tensor\n",
    "        The raw output from the model. It has shape (N, C, H, W) where N is the batch size, C is the \n",
    "        number of classes, and H and W are the height and width of the images, respectively.\n",
    "    \n",
    "    gt : torch.Tensor\n",
    "        The ground truth labels for the images. It has shape (N, H, W).\n",
    "\n",
    "    Returns:\n",
    "    --------\n",
    "    float\n",
    "        The pixel-wise accuracy of the predictions.\n",
    "\n",
    "    Note:\n",
    "    -----\n",
    "    The accuracy is computed within a torch.no_grad() context to disable gradient computation, as this \n",
    "    function is typically used for evaluating the model, not for training.\n",
    "    \"\"\"\n",
    "    with torch.no_grad():\n",
    "        # Apply softmax to the output to get the predicted probabilities for each class\n",
    "        # Then, select the class with the highest probability as the predicted class for each pixel\n",
    "        output = torch.argmax(F.softmax(output, dim=1), dim=1)\n",
    "        correct = torch.eq(output, gt).int()\n",
    "        # Compute the accuracy as the number of correctly predicted pixels divided by the total number of pixels\n",
    "        accuracy = float(correct.sum()) / float(correct.numel())\n",
    "    return accuracy"
   ]
  },
  {
   "attachments": {},
   "cell_type": "markdown",
   "metadata": {},
   "source": [
    "### So for imbalanced classes this is NOT a very effective metric."
   ]
  },
  {
   "attachments": {},
   "cell_type": "markdown",
   "metadata": {},
   "source": [
    "![](2022-05-01-03-53-14.png)\n",
    "\n",
    "And lets say your segmentation model predicts the entire image as black i.e. the background.\n",
    "\n",
    "\n",
    "![](2022-05-01-03-53-00.png)"
   ]
  }
 ],
 "metadata": {
  "language_info": {
   "name": "python"
  },
  "orig_nbformat": 4
 },
 "nbformat": 4,
 "nbformat_minor": 2
}
