{
 "cells": [
  {
   "cell_type": "markdown",
   "metadata": {},
   "source": [
    "### To run this notebook,\n",
    "\n",
    "- you can just run the Jupyter Notebook, as this notebook imports the train.py file and which in turn imports all the other modules from the other files (i.e. dcgan.py and utils.py)\n",
    "\n",
    "For this notebook the directory where the MNIST dataset was downloaded is in Google Drive, so you only have to change the path of the directory where you want your MNIST to get downloaded.\n",
    "\n",
    "And also the variable 'output_path' where the generated fake images will be saved.\n"
   ]
  },
  {
   "cell_type": "code",
   "execution_count": null,
   "metadata": {},
   "outputs": [],
   "source": [
    "from google.colab import drive\n",
    "drive.mount(\"/content/drive\")"
   ]
  },
  {
   "cell_type": "code",
   "execution_count": null,
   "metadata": {},
   "outputs": [],
   "source": [
    "# !python3 \"/content/train.py\"\n",
    "!python train.py"
   ]
  }
 ],
 "metadata": {
  "interpreter": {
   "hash": "36cf16204b8548560b1c020c4e8fb5b57f0e4c58016f52f2d4be01e192833930"
  },
  "kernelspec": {
   "display_name": "Python 3.9.10 64-bit",
   "language": "python",
   "name": "python3"
  },
  "language_info": {
   "name": "python",
   "version": "3.9.10"
  },
  "orig_nbformat": 4
 },
 "nbformat": 4,
 "nbformat_minor": 2
}
