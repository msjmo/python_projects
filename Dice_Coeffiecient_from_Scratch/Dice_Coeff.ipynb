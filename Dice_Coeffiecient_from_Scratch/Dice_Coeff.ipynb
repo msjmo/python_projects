{
 "cells": [
  {
   "attachments": {},
   "cell_type": "markdown",
   "metadata": {},
   "source": [
    "### Simply put, the Dice Coefficient is 2 * the Area of Overlap divided by the total number of pixels in both images. \n",
    "\n",
    "![Imgur](https://imgur.com/EHlGKpA.png)\n",
    "\n",
    "![Imgur](https://imgur.com/2qg11kS.png)"
   ]
  },
  {
   "cell_type": "code",
   "execution_count": 2,
   "metadata": {},
   "outputs": [],
   "source": [
    "import warnings\n",
    "warnings.filterwarnings('ignore')\n",
    "import cv2\n",
    "import numpy as np\n",
    "from keras import backend as K"
   ]
  },
  {
   "cell_type": "code",
   "execution_count": 14,
   "metadata": {},
   "outputs": [],
   "source": [
    "def dice_coefficient(y_true, y_pred, smooth=1):\n",
    "    \"\"\"\n",
    "    Computes the Dice coefficient, a statistical metric used for comparing the similarity \n",
    "    of two samples. It is especially used for comparing the pixel-wise agreement between a \n",
    "    predicted segmentation and its corresponding ground truth.\n",
    "\n",
    "    The Dice coefficient is defined as 2 * |X ∩ Y| / (|X|+|Y|), where X is the true mask \n",
    "    of an image and Y is the predicted mask. In other words, it's twice the area of overlap \n",
    "    between the predicted and ground truth, divided by the total number of pixels in both \n",
    "    images. \n",
    "\n",
    "    Parameters:\n",
    "    -----------\n",
    "    y_true : array\n",
    "        The ground truth masks.\n",
    "    \n",
    "    y_pred : array\n",
    "        The predicted masks.\n",
    "\n",
    "    smooth : float, optional (default is 1)\n",
    "        A smoothing factor to prevent division by zero in case there's no overlap between \n",
    "        the predicted and ground truth masks.\n",
    "\n",
    "    Returns:\n",
    "    --------\n",
    "    float\n",
    "        The Dice coefficient, a float between 0 (complete dissimilarity) and 1 (complete similarity).\n",
    "    \"\"\"\n",
    "    intersection = K.sum(y_true * y_pred, axis=[1, 2, 3])\n",
    "    union = K.sum(y_true, axis=[1, 2, 3]) + K.sum(y_pred, axis=[1, 2, 3])\n",
    "    return K.mean((2. * intersection + smooth) / (union + smooth), axis=0)"
   ]
  },
  {
   "cell_type": "code",
   "execution_count": 15,
   "metadata": {},
   "outputs": [
    {
     "name": "stdout",
     "output_type": "stream",
     "text": [
      "(853, 640, 3)\n",
      "(853, 640, 3)\n",
      "(1, 853, 640, 3)\n",
      "(1, 853, 640, 3)\n"
     ]
    }
   ],
   "source": [
    "y_pred = cv2.imread('image_1.png')/255.\n",
    "y_true = cv2.imread('image_2.png')/255.\n",
    "\n",
    "print(y_pred.shape)\n",
    "print(y_true.shape)\n",
    "\n",
    "y_pred = y_pred.reshape((-1, 853, 640, 3 ))\n",
    "y_true = y_true.reshape((-1, 853, 640, 3 ))\n",
    "\n",
    "print(y_pred.shape)\n",
    "print(y_true.shape)"
   ]
  },
  {
   "cell_type": "code",
   "execution_count": 16,
   "metadata": {},
   "outputs": [
    {
     "name": "stdout",
     "output_type": "stream",
     "text": [
      "Dice Coeff: 0.48028548944379973\n"
     ]
    }
   ],
   "source": [
    "dice_score = dice_coefficient(y_true, y_pred)\n",
    "\n",
    "print (\"Dice Coeff: {}\".format(dice_score))"
   ]
  }
 ],
 "metadata": {
  "interpreter": {
   "hash": "f9f85f796d01129d0dd105a088854619f454435301f6ffec2fea96ecbd9be4ac"
  },
  "kernelspec": {
   "display_name": "Python 3.9.12 64-bit",
   "language": "python",
   "name": "python3"
  },
  "language_info": {
   "codemirror_mode": {
    "name": "ipython",
    "version": 3
   },
   "file_extension": ".py",
   "mimetype": "text/x-python",
   "name": "python",
   "nbconvert_exporter": "python",
   "pygments_lexer": "ipython3",
   "version": "3.9.12"
  },
  "orig_nbformat": 4
 },
 "nbformat": 4,
 "nbformat_minor": 2
}
