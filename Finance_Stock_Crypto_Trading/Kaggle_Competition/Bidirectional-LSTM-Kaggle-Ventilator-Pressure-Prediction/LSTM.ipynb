{
 "cells": [
  {
   "attachments": {},
   "cell_type": "markdown",
   "id": "15766a1d",
   "metadata": {
    "papermill": {
     "duration": 0.022668,
     "end_time": "2021-09-23T21:20:08.536683",
     "exception": false,
     "start_time": "2021-09-23T21:20:08.514015",
     "status": "completed"
    },
    "tags": []
   },
   "source": [
    "## Baseling LSTM\n",
    "\n",
    "### [Kaggle Competition](https://www.kaggle.com/competitions/ventilator-pressure-prediction/overview)"
   ]
  },
  {
   "cell_type": "code",
   "execution_count": 23,
   "id": "d20019e6",
   "metadata": {
    "_kg_hide-input": true,
    "execution": {
     "iopub.execute_input": "2021-09-23T21:20:08.584490Z",
     "iopub.status.busy": "2021-09-23T21:20:08.583029Z",
     "iopub.status.idle": "2021-09-23T21:20:09.357402Z",
     "shell.execute_reply": "2021-09-23T21:20:09.356832Z",
     "shell.execute_reply.started": "2021-09-23T15:48:46.478686Z"
    },
    "papermill": {
     "duration": 0.799234,
     "end_time": "2021-09-23T21:20:09.357559",
     "exception": false,
     "start_time": "2021-09-23T21:20:08.558325",
     "status": "completed"
    },
    "tags": []
   },
   "outputs": [],
   "source": [
    "import os\n",
    "import gc\n",
    "import warnings\n",
    "import numpy as np\n",
    "import pandas as pd\n",
    "import seaborn as sns\n",
    "import matplotlib.pyplot as plt\n",
    "\n",
    "from tqdm.notebook import tqdm\n",
    "from collections import Counter\n",
    "\n",
    "import torch\n",
    "import torch.nn as nn\n",
    "\n",
    "import matplotlib.pyplot as plt\n",
    "plt.rcParams.update({'font.size': 18})\n",
    "plt.style.use('ggplot')\n",
    "import seaborn as sns\n",
    "from scipy import stats\n",
    "\n",
    "from sklearn.model_selection import GroupKFold\n",
    "\n",
    "warnings.filterwarnings(\"ignore\")\n",
    "NUM_WORKERS = 4\n",
    "\n",
    "from utils import *\n",
    "from train import *\n"
   ]
  },
  {
   "attachments": {},
   "cell_type": "markdown",
   "id": "b0315ed0",
   "metadata": {
    "papermill": {
     "duration": 0.021801,
     "end_time": "2021-09-23T21:20:09.402779",
     "exception": false,
     "start_time": "2021-09-23T21:20:09.380978",
     "status": "completed"
    },
    "tags": []
   },
   "source": [
    "## Data Overview\n",
    "\n",
    "Columns\n",
    "* id - globally-unique time step identifier across an entire file\n",
    "* breath_id - globally-unique time step for breaths\n",
    "\n",
    "* R - lung attribute indicating how restricted the airway is (in cmH2O/L/S). Physically, this is the change in pressure per change in flow (air volume per time). Intuitively, one can imagine blowing up a balloon through a straw. We can change R by changing the diameter of the straw, with higher R being harder to blow.\n",
    "  The variable R is resistance and indicates how easy it is for air to enter and then \"exit\" the balloon. (Actually just move around since during inhale exit is closed). The largest value R=50 has the most resistance. If we input air into a balloon with high resistance, the air \"stays inside\" and increases pressure.\n",
    "  If we input a spike (quick input) of air, then the balloons (lungs) with large R rise in pressure quickly while the balloons (lungs) with small R observe the air \"passing though\" easily and do not rise in pressure quickly.\n",
    "\n",
    "* C - lung attribute indicating how compliant the lung is (in mL/cmH2O). Physically, this is the change in volume per change in pressure. Intuitively, one can imagine the same balloon example. We can change C by changing the thickness of the balloon’s latex, with higher C having thinner latex and easier to blow.\n",
    "  The variable C is compliance and indicates how easy it is to stretch the balloon (lung). The largest value C=50 is the easiest to stretch. If we input air into a balloon that stretches easily, the pressure does not increase because the balloon just gets bigger (and thus air per space does not increase). If we input air into a ballon that does not stretch easy (C=10), the balloon stays the same size but gets more air inside (thus pressure increases).\n",
    "\n",
    "\n",
    "\n",
    "* time_step - the actual time stamp.\n",
    "\n",
    "* u_in - the control input for the inspiratory solenoid valve. Ranges from 0 to 100.\n",
    "\n",
    "* u_out -This is the second control input for the expiratory solenoid valve. It is a binary variable representing whether the expioratory valve is open (1) or closed (0) to let air out. u_out=1 is the expiratory phase. In simple terms, expiratory phase, is \"breath out\" or in the case of an artificial lung, let the air out. The data for the expiratory phase is not helpful for the model. During an exhale, the ventilator pressure and the target pressure are nearly identical.\n",
    "  \n",
    "  Read more - https://www.kaggle.com/competitions/ventilator-pressure-prediction/discussion/273906\n",
    "\n",
    "* pressure - the airway pressure measured in the respiratory circuit, measured in cmH2O.\n",
    "\n"
   ]
  },
  {
   "cell_type": "markdown",
   "id": "caf5ce16",
   "metadata": {},
   "source": [
    "\n",
    "--------------------\n",
    "\n",
    "## Parameters R and C Explanation\n",
    "\n",
    "https://www.kaggle.com/competitions/ventilator-pressure-prediction/discussion/276599\n",
    "\n",
    "## Goal\n",
    "\n",
    "The goal is to simulate a ventilator connected to a sedated patient's lung by taking lung attributes compliance and resistance into account."
   ]
  },
  {
   "cell_type": "code",
   "execution_count": 24,
   "id": "fd520830",
   "metadata": {
    "execution": {
     "iopub.execute_input": "2021-09-23T21:20:09.495043Z",
     "iopub.status.busy": "2021-09-23T21:20:09.494517Z",
     "iopub.status.idle": "2021-09-23T21:20:23.057883Z",
     "shell.execute_reply": "2021-09-23T21:20:23.058339Z",
     "shell.execute_reply.started": "2021-09-23T15:48:46.489787Z"
    },
    "papermill": {
     "duration": 13.590445,
     "end_time": "2021-09-23T21:20:23.058540",
     "exception": false,
     "start_time": "2021-09-23T21:20:09.468095",
     "status": "completed"
    },
    "tags": []
   },
   "outputs": [],
   "source": [
    "# ROOT_DIR = \"/kaggle/input/ventilator-pressure-prediction/\" # Kaggle\n",
    "ROOT_DIR = \"../input/\" # Local\n",
    "\n",
    "sub = pd.read_csv(ROOT_DIR + 'sample_submission.csv')\n",
    "df_train = pd.read_csv(ROOT_DIR + 'train.csv')\n",
    "df_test = pd.read_csv(ROOT_DIR + 'test.csv')"
   ]
  },
  {
   "cell_type": "code",
   "execution_count": 25,
   "id": "51c4e52d",
   "metadata": {},
   "outputs": [
    {
     "data": {
      "text/html": [
       "<div>\n",
       "<style scoped>\n",
       "    .dataframe tbody tr th:only-of-type {\n",
       "        vertical-align: middle;\n",
       "    }\n",
       "\n",
       "    .dataframe tbody tr th {\n",
       "        vertical-align: top;\n",
       "    }\n",
       "\n",
       "    .dataframe thead th {\n",
       "        text-align: right;\n",
       "    }\n",
       "</style>\n",
       "<table border=\"1\" class=\"dataframe\">\n",
       "  <thead>\n",
       "    <tr style=\"text-align: right;\">\n",
       "      <th></th>\n",
       "      <th>id</th>\n",
       "      <th>breath_id</th>\n",
       "      <th>R</th>\n",
       "      <th>C</th>\n",
       "      <th>time_step</th>\n",
       "      <th>u_in</th>\n",
       "      <th>u_out</th>\n",
       "      <th>pressure</th>\n",
       "    </tr>\n",
       "  </thead>\n",
       "  <tbody>\n",
       "    <tr>\n",
       "      <th>0</th>\n",
       "      <td>1</td>\n",
       "      <td>1</td>\n",
       "      <td>20</td>\n",
       "      <td>50</td>\n",
       "      <td>0.000000</td>\n",
       "      <td>0.083334</td>\n",
       "      <td>0</td>\n",
       "      <td>5.837492</td>\n",
       "    </tr>\n",
       "    <tr>\n",
       "      <th>1</th>\n",
       "      <td>2</td>\n",
       "      <td>1</td>\n",
       "      <td>20</td>\n",
       "      <td>50</td>\n",
       "      <td>0.033652</td>\n",
       "      <td>18.383041</td>\n",
       "      <td>0</td>\n",
       "      <td>5.907794</td>\n",
       "    </tr>\n",
       "    <tr>\n",
       "      <th>2</th>\n",
       "      <td>3</td>\n",
       "      <td>1</td>\n",
       "      <td>20</td>\n",
       "      <td>50</td>\n",
       "      <td>0.067514</td>\n",
       "      <td>22.509278</td>\n",
       "      <td>0</td>\n",
       "      <td>7.876254</td>\n",
       "    </tr>\n",
       "    <tr>\n",
       "      <th>3</th>\n",
       "      <td>4</td>\n",
       "      <td>1</td>\n",
       "      <td>20</td>\n",
       "      <td>50</td>\n",
       "      <td>0.101542</td>\n",
       "      <td>22.808822</td>\n",
       "      <td>0</td>\n",
       "      <td>11.742872</td>\n",
       "    </tr>\n",
       "    <tr>\n",
       "      <th>4</th>\n",
       "      <td>5</td>\n",
       "      <td>1</td>\n",
       "      <td>20</td>\n",
       "      <td>50</td>\n",
       "      <td>0.135756</td>\n",
       "      <td>25.355850</td>\n",
       "      <td>0</td>\n",
       "      <td>12.234987</td>\n",
       "    </tr>\n",
       "  </tbody>\n",
       "</table>\n",
       "</div>"
      ],
      "text/plain": [
       "   id  breath_id   R   C  time_step       u_in  u_out   pressure\n",
       "0   1          1  20  50   0.000000   0.083334      0   5.837492\n",
       "1   2          1  20  50   0.033652  18.383041      0   5.907794\n",
       "2   3          1  20  50   0.067514  22.509278      0   7.876254\n",
       "3   4          1  20  50   0.101542  22.808822      0  11.742872\n",
       "4   5          1  20  50   0.135756  25.355850      0  12.234987"
      ]
     },
     "execution_count": 25,
     "metadata": {},
     "output_type": "execute_result"
    }
   ],
   "source": [
    "df_train.head()"
   ]
  },
  {
   "cell_type": "code",
   "execution_count": 26,
   "id": "5d6c1a91",
   "metadata": {},
   "outputs": [
    {
     "data": {
      "text/plain": [
       "(75450,)"
      ]
     },
     "execution_count": 26,
     "metadata": {},
     "output_type": "execute_result"
    }
   ],
   "source": [
    "df_train['breath_id'].unique().shape"
   ]
  },
  {
   "cell_type": "code",
   "execution_count": 27,
   "id": "386cd931",
   "metadata": {},
   "outputs": [],
   "source": [
    "df_train = df_train[df_train['breath_id'] < 3].reset_index(drop=True)"
   ]
  },
  {
   "cell_type": "code",
   "execution_count": 28,
   "id": "1bf897bc",
   "metadata": {},
   "outputs": [
    {
     "data": {
      "text/plain": [
       "(2,)"
      ]
     },
     "execution_count": 28,
     "metadata": {},
     "output_type": "execute_result"
    }
   ],
   "source": [
    "df_train['breath_id'].unique().shape"
   ]
  },
  {
   "cell_type": "code",
   "execution_count": 29,
   "id": "52c89a2c",
   "metadata": {},
   "outputs": [
    {
     "data": {
      "text/plain": [
       "(160, 8)"
      ]
     },
     "execution_count": 29,
     "metadata": {},
     "output_type": "execute_result"
    }
   ],
   "source": [
    "df_train.shape"
   ]
  },
  {
   "cell_type": "code",
   "execution_count": 33,
   "id": "eaf4b2eb",
   "metadata": {},
   "outputs": [
    {
     "data": {
      "text/plain": [
       "<Axes: >"
      ]
     },
     "execution_count": 33,
     "metadata": {},
     "output_type": "execute_result"
    },
    {
     "data": {
      "image/png": "[encoded data removed]",
      "text/plain": [
       "<Figure size 2500x1100 with 2 Axes>"
      ]
     },
     "metadata": {},
     "output_type": "display_data"
    }
   ],
   "source": [
    "plt.figure(figsize = (25,11))\n",
    "# sns.heatmap(df.isna().values, cmap = ['green','orange'], xticklabels=df_train.columns)\n",
    "sns.heatmap(df_train.isna().values, cmap = ['green','orange'])\n",
    "# plt.title(\"Missing values in training Data\", size=20);"
   ]
  },
  {
   "cell_type": "code",
   "execution_count": 34,
   "id": "d760f9a6",
   "metadata": {
    "_kg_hide-input": true,
    "execution": {
     "iopub.execute_input": "2021-09-23T21:20:23.217155Z",
     "iopub.status.busy": "2021-09-23T21:20:23.216568Z",
     "iopub.status.idle": "2021-09-23T21:20:23.218727Z",
     "shell.execute_reply": "2021-09-23T21:20:23.219102Z",
     "shell.execute_reply.started": "2021-09-23T15:48:53.649751Z"
    },
    "papermill": {
     "duration": 0.029979,
     "end_time": "2021-09-23T21:20:23.219227",
     "exception": false,
     "start_time": "2021-09-23T21:20:23.189248",
     "status": "completed"
    },
    "tags": []
   },
   "outputs": [],
   "source": [
    "def plot_sample(sample_id, df):\n",
    "    df_breath = df[df['breath_id'] == sample_id]\n",
    "    r, c  = df_breath[['R', 'C']].values[0]\n",
    "\n",
    "    cols = ['u_in', 'u_out', 'pressure'] if 'pressure' in df.columns else ['u_in', 'u_out']\n",
    "    \n",
    "    plt.figure(figsize=(12, 4))\n",
    "    for col in cols:\n",
    "        plt.plot(df_breath['time_step'], df_breath[col], label=col)\n",
    "        \n",
    "    plt.legend()\n",
    "    plt.title(f'Sample {sample_id} - R={r}, C={c}')"
   ]
  },
  {
   "cell_type": "code",
   "execution_count": 35,
   "id": "b0bf560a",
   "metadata": {},
   "outputs": [
    {
     "data": {
      "text/plain": [
       "array([1, 2], dtype=int64)"
      ]
     },
     "execution_count": 35,
     "metadata": {},
     "output_type": "execute_result"
    }
   ],
   "source": [
    "df_train['breath_id'].unique() # there are only 4 unique breath ids"
   ]
  },
  {
   "cell_type": "code",
   "execution_count": null,
   "id": "925bde57",
   "metadata": {
    "execution": {
     "iopub.execute_input": "2021-09-23T21:20:23.268961Z",
     "iopub.status.busy": "2021-09-23T21:20:23.268209Z",
     "iopub.status.idle": "2021-09-23T21:20:24.315047Z",
     "shell.execute_reply": "2021-09-23T21:20:24.314625Z",
     "shell.execute_reply.started": "2021-09-23T15:48:53.662894Z"
    },
    "papermill": {
     "duration": 1.07377,
     "end_time": "2021-09-23T21:20:24.315155",
     "exception": false,
     "start_time": "2021-09-23T21:20:23.241385",
     "status": "completed"
    },
    "tags": []
   },
   "outputs": [],
   "source": [
    "for i in df_train['breath_id'].unique():\n",
    "    plot_sample(i, df_train)"
   ]
  },
  {
   "attachments": {},
   "cell_type": "markdown",
   "id": "656f3cd3",
   "metadata": {
    "papermill": {
     "duration": 0.026252,
     "end_time": "2021-09-23T21:20:24.368337",
     "exception": false,
     "start_time": "2021-09-23T21:20:24.342085",
     "status": "completed"
    },
    "tags": []
   },
   "source": [
    "## Prepare Data for LSTM\n"
   ]
  },
  {
   "cell_type": "code",
   "execution_count": 37,
   "id": "61c7419d",
   "metadata": {
    "_kg_hide-input": false,
    "_kg_hide-output": true,
    "execution": {
     "iopub.execute_input": "2021-09-23T21:20:28.928779Z",
     "iopub.status.busy": "2021-09-23T21:20:28.928083Z",
     "iopub.status.idle": "2021-09-23T21:20:28.996727Z",
     "shell.execute_reply": "2021-09-23T21:20:28.997114Z",
     "shell.execute_reply.started": "2021-09-23T15:48:54.542342Z"
    },
    "papermill": {
     "duration": 0.124855,
     "end_time": "2021-09-23T21:20:28.997259",
     "exception": false,
     "start_time": "2021-09-23T21:20:28.872404",
     "status": "completed"
    },
    "tags": []
   },
   "outputs": [
    {
     "data": {
      "text/plain": [
       "{'input': tensor([[2.0000e+01, 5.0000e+01, 8.3334e-02, 8.3334e-02, 0.0000e+00],\n",
       "         [2.0000e+01, 5.0000e+01, 1.8383e+01, 1.8466e+01, 0.0000e+00],\n",
       "         [2.0000e+01, 5.0000e+01, 2.2509e+01, 4.0976e+01, 0.0000e+00],\n",
       "         [2.0000e+01, 5.0000e+01, 2.2809e+01, 6.3784e+01, 0.0000e+00],\n",
       "         [2.0000e+01, 5.0000e+01, 2.5356e+01, 8.9140e+01, 0.0000e+00],\n",
       "         [2.0000e+01, 5.0000e+01, 2.7260e+01, 1.1640e+02, 0.0000e+00],\n",
       "         [2.0000e+01, 5.0000e+01, 2.7127e+01, 1.4353e+02, 0.0000e+00],\n",
       "         [2.0000e+01, 5.0000e+01, 2.6808e+01, 1.7034e+02, 0.0000e+00],\n",
       "         [2.0000e+01, 5.0000e+01, 2.7865e+01, 1.9820e+02, 0.0000e+00],\n",
       "         [2.0000e+01, 5.0000e+01, 2.8313e+01, 2.2651e+02, 0.0000e+00],\n",
       "         [2.0000e+01, 5.0000e+01, 2.6867e+01, 2.5338e+02, 0.0000e+00],\n",
       "         [2.0000e+01, 5.0000e+01, 2.6763e+01, 2.8014e+02, 0.0000e+00],\n",
       "         [2.0000e+01, 5.0000e+01, 2.7993e+01, 3.0814e+02, 0.0000e+00],\n",
       "         [2.0000e+01, 5.0000e+01, 2.6790e+01, 3.3493e+02, 0.0000e+00],\n",
       "         [2.0000e+01, 5.0000e+01, 2.5634e+01, 3.6056e+02, 0.0000e+00],\n",
       "         [2.0000e+01, 5.0000e+01, 2.6280e+01, 3.8684e+02, 0.0000e+00],\n",
       "         [2.0000e+01, 5.0000e+01, 2.4727e+01, 4.1157e+02, 0.0000e+00],\n",
       "         [2.0000e+01, 5.0000e+01, 2.3468e+01, 4.3503e+02, 0.0000e+00],\n",
       "         [2.0000e+01, 5.0000e+01, 2.3858e+01, 4.5889e+02, 0.0000e+00],\n",
       "         [2.0000e+01, 5.0000e+01, 2.1883e+01, 4.8078e+02, 0.0000e+00],\n",
       "         [2.0000e+01, 5.0000e+01, 2.0701e+01, 5.0148e+02, 0.0000e+00],\n",
       "         [2.0000e+01, 5.0000e+01, 2.0844e+01, 5.2232e+02, 0.0000e+00],\n",
       "         [2.0000e+01, 5.0000e+01, 2.0269e+01, 5.4259e+02, 0.0000e+00],\n",
       "         [2.0000e+01, 5.0000e+01, 1.9694e+01, 5.6228e+02, 0.0000e+00],\n",
       "         [2.0000e+01, 5.0000e+01, 1.8927e+01, 5.8121e+02, 0.0000e+00],\n",
       "         [2.0000e+01, 5.0000e+01, 1.8094e+01, 5.9931e+02, 0.0000e+00],\n",
       "         [2.0000e+01, 5.0000e+01, 1.7194e+01, 6.1650e+02, 0.0000e+00],\n",
       "         [2.0000e+01, 5.0000e+01, 1.6419e+01, 6.3292e+02, 0.0000e+00],\n",
       "         [2.0000e+01, 5.0000e+01, 1.5745e+01, 6.4866e+02, 0.0000e+00],\n",
       "         [2.0000e+01, 5.0000e+01, 1.4932e+01, 6.6359e+02, 0.0000e+00],\n",
       "         [2.0000e+01, 5.0000e+01, 0.0000e+00, 6.6359e+02, 1.0000e+00],\n",
       "         [2.0000e+01, 5.0000e+01, 0.0000e+00, 6.6359e+02, 1.0000e+00],\n",
       "         [2.0000e+01, 5.0000e+01, 0.0000e+00, 6.6359e+02, 1.0000e+00],\n",
       "         [2.0000e+01, 5.0000e+01, 0.0000e+00, 6.6359e+02, 1.0000e+00],\n",
       "         [2.0000e+01, 5.0000e+01, 0.0000e+00, 6.6359e+02, 1.0000e+00],\n",
       "         [2.0000e+01, 5.0000e+01, 0.0000e+00, 6.6359e+02, 1.0000e+00],\n",
       "         [2.0000e+01, 5.0000e+01, 0.0000e+00, 6.6359e+02, 1.0000e+00],\n",
       "         [2.0000e+01, 5.0000e+01, 0.0000e+00, 6.6359e+02, 1.0000e+00],\n",
       "         [2.0000e+01, 5.0000e+01, 0.0000e+00, 6.6359e+02, 1.0000e+00],\n",
       "         [2.0000e+01, 5.0000e+01, 0.0000e+00, 6.6359e+02, 1.0000e+00],\n",
       "         [2.0000e+01, 5.0000e+01, 0.0000e+00, 6.6359e+02, 1.0000e+00],\n",
       "         [2.0000e+01, 5.0000e+01, 0.0000e+00, 6.6359e+02, 1.0000e+00],\n",
       "         [2.0000e+01, 5.0000e+01, 0.0000e+00, 6.6359e+02, 1.0000e+00],\n",
       "         [2.0000e+01, 5.0000e+01, 0.0000e+00, 6.6359e+02, 1.0000e+00],\n",
       "         [2.0000e+01, 5.0000e+01, 0.0000e+00, 6.6359e+02, 1.0000e+00],\n",
       "         [2.0000e+01, 5.0000e+01, 7.7922e-01, 6.6437e+02, 1.0000e+00],\n",
       "         [2.0000e+01, 5.0000e+01, 1.4390e+00, 6.6581e+02, 1.0000e+00],\n",
       "         [2.0000e+01, 5.0000e+01, 1.9942e+00, 6.6781e+02, 1.0000e+00],\n",
       "         [2.0000e+01, 5.0000e+01, 2.4672e+00, 6.7027e+02, 1.0000e+00],\n",
       "         [2.0000e+01, 5.0000e+01, 2.8634e+00, 6.7314e+02, 1.0000e+00],\n",
       "         [2.0000e+01, 5.0000e+01, 3.1978e+00, 6.7634e+02, 1.0000e+00],\n",
       "         [2.0000e+01, 5.0000e+01, 3.4784e+00, 6.7981e+02, 1.0000e+00],\n",
       "         [2.0000e+01, 5.0000e+01, 3.7164e+00, 6.8353e+02, 1.0000e+00],\n",
       "         [2.0000e+01, 5.0000e+01, 3.9168e+00, 6.8745e+02, 1.0000e+00],\n",
       "         [2.0000e+01, 5.0000e+01, 4.0863e+00, 6.9153e+02, 1.0000e+00],\n",
       "         [2.0000e+01, 5.0000e+01, 4.2287e+00, 6.9576e+02, 1.0000e+00],\n",
       "         [2.0000e+01, 5.0000e+01, 4.3494e+00, 7.0011e+02, 1.0000e+00],\n",
       "         [2.0000e+01, 5.0000e+01, 4.4512e+00, 7.0456e+02, 1.0000e+00],\n",
       "         [2.0000e+01, 5.0000e+01, 4.5370e+00, 7.0910e+02, 1.0000e+00],\n",
       "         [2.0000e+01, 5.0000e+01, 4.6095e+00, 7.1371e+02, 1.0000e+00],\n",
       "         [2.0000e+01, 5.0000e+01, 4.6708e+00, 7.1838e+02, 1.0000e+00],\n",
       "         [2.0000e+01, 5.0000e+01, 4.7227e+00, 7.2310e+02, 1.0000e+00],\n",
       "         [2.0000e+01, 5.0000e+01, 4.7661e+00, 7.2787e+02, 1.0000e+00],\n",
       "         [2.0000e+01, 5.0000e+01, 4.8029e+00, 7.3267e+02, 1.0000e+00],\n",
       "         [2.0000e+01, 5.0000e+01, 4.8337e+00, 7.3751e+02, 1.0000e+00],\n",
       "         [2.0000e+01, 5.0000e+01, 4.8598e+00, 7.4237e+02, 1.0000e+00],\n",
       "         [2.0000e+01, 5.0000e+01, 4.8818e+00, 7.4725e+02, 1.0000e+00],\n",
       "         [2.0000e+01, 5.0000e+01, 4.9004e+00, 7.5215e+02, 1.0000e+00],\n",
       "         [2.0000e+01, 5.0000e+01, 4.9160e+00, 7.5706e+02, 1.0000e+00],\n",
       "         [2.0000e+01, 5.0000e+01, 4.9292e+00, 7.6199e+02, 1.0000e+00],\n",
       "         [2.0000e+01, 5.0000e+01, 4.9402e+00, 7.6693e+02, 1.0000e+00],\n",
       "         [2.0000e+01, 5.0000e+01, 4.9496e+00, 7.7188e+02, 1.0000e+00],\n",
       "         [2.0000e+01, 5.0000e+01, 4.9575e+00, 7.7684e+02, 1.0000e+00],\n",
       "         [2.0000e+01, 5.0000e+01, 4.9641e+00, 7.8180e+02, 1.0000e+00],\n",
       "         [2.0000e+01, 5.0000e+01, 4.9697e+00, 7.8677e+02, 1.0000e+00],\n",
       "         [2.0000e+01, 5.0000e+01, 4.9745e+00, 7.9175e+02, 1.0000e+00],\n",
       "         [2.0000e+01, 5.0000e+01, 4.9785e+00, 7.9673e+02, 1.0000e+00],\n",
       "         [2.0000e+01, 5.0000e+01, 4.9818e+00, 8.0171e+02, 1.0000e+00],\n",
       "         [2.0000e+01, 5.0000e+01, 4.9847e+00, 8.0669e+02, 1.0000e+00],\n",
       "         [2.0000e+01, 5.0000e+01, 4.9871e+00, 8.1168e+02, 1.0000e+00]]),\n",
       " 'u_out': tensor([0., 0., 0., 0., 0., 0., 0., 0., 0., 0., 0., 0., 0., 0., 0., 0., 0., 0.,\n",
       "         0., 0., 0., 0., 0., 0., 0., 0., 0., 0., 0., 0., 1., 1., 1., 1., 1., 1.,\n",
       "         1., 1., 1., 1., 1., 1., 1., 1., 1., 1., 1., 1., 1., 1., 1., 1., 1., 1.,\n",
       "         1., 1., 1., 1., 1., 1., 1., 1., 1., 1., 1., 1., 1., 1., 1., 1., 1., 1.,\n",
       "         1., 1., 1., 1., 1., 1., 1., 1.]),\n",
       " 'p': tensor([ 5.8375,  5.9078,  7.8763, 11.7429, 12.2350, 12.8677, 14.6956, 15.8907,\n",
       "         15.5392, 15.7501, 17.2967, 17.2264, 16.1719, 17.3670, 18.0701, 17.1561,\n",
       "         18.2810, 18.7731, 17.8592, 19.1246, 19.3355, 18.4919, 18.5622, 18.6325,\n",
       "         18.8434, 19.0543, 19.2652, 19.3355, 19.3355, 19.4761, 19.5464, 17.0155,\n",
       "          9.5635,  7.8763,  8.6496,  7.5950,  7.6653,  8.2981,  7.2435,  7.9466,\n",
       "          7.5950,  7.4544,  8.1575,  6.8217,  7.1732,  7.5247,  6.9623,  7.4544,\n",
       "          7.5950,  7.1732,  7.7356,  7.2435,  7.5950,  7.3841,  7.2435,  7.7356,\n",
       "          7.5247,  6.9623,  7.1029,  7.3138,  6.1187,  7.0326,  6.8217,  6.5405,\n",
       "          6.9623,  6.8217,  6.5405,  6.8217,  6.8217,  6.3999,  6.7514,  6.5405,\n",
       "          6.3999,  6.7514,  6.4702,  6.3999,  6.6108,  6.3296,  6.5405,  6.4702])}"
      ]
     },
     "execution_count": 37,
     "metadata": {},
     "output_type": "execute_result"
    }
   ],
   "source": [
    "dataset = VentilatorDataset(df_train)\n",
    "dataset[0]"
   ]
  },
  {
   "attachments": {},
   "cell_type": "markdown",
   "id": "7e94e1f2",
   "metadata": {
    "papermill": {
     "duration": 0.026392,
     "end_time": "2021-09-23T21:20:29.050571",
     "exception": false,
     "start_time": "2021-09-23T21:20:29.024179",
     "status": "completed"
    },
    "tags": []
   },
   "source": [
    "## Model"
   ]
  },
  {
   "cell_type": "code",
   "execution_count": 38,
   "id": "d6fdcdea",
   "metadata": {
    "execution": {
     "iopub.execute_input": "2021-09-23T21:20:34.265433Z",
     "iopub.status.busy": "2021-09-23T21:20:34.264658Z",
     "iopub.status.idle": "2021-09-23T21:20:34.317652Z",
     "shell.execute_reply": "2021-09-23T21:20:34.318512Z",
     "shell.execute_reply.started": "2021-09-23T16:01:55.379977Z"
    },
    "papermill": {
     "duration": 0.083091,
     "end_time": "2021-09-23T21:20:34.318667",
     "exception": false,
     "start_time": "2021-09-23T21:20:34.235576",
     "status": "completed"
    },
    "tags": []
   },
   "outputs": [],
   "source": [
    "class Config:\n",
    "    \"\"\"\n",
    "    Parameters used for training\n",
    "    \"\"\"\n",
    "    # General\n",
    "    seed = 42\n",
    "    verbose = 1\n",
    "    device = \"cuda\" if torch.cuda.is_available() else \"cpu\"\n",
    "    save_weights = True\n",
    "\n",
    "    # k-fold\n",
    "    k = 5\n",
    "    selected_folds = [0, 1, 2, 3, 4]\n",
    "    \n",
    "    # Model\n",
    "    selected_model = 'rnn'\n",
    "    input_dim = 5\n",
    "\n",
    "    dense_dim = 512\n",
    "    lstm_dim = 512\n",
    "    logit_dim = 512\n",
    "    num_classes = 1\n",
    "\n",
    "    # Training\n",
    "    loss = \"L1Loss\"  # not used\n",
    "    optimizer = \"Adam\"\n",
    "    batch_size = 128\n",
    "    epochs = 200\n",
    "\n",
    "    lr = 1e-3\n",
    "    \n",
    "    warmup_prop = 0\n",
    "\n",
    "    val_bs = 256\n",
    "    first_epoch_eval = 0"
   ]
  },
  {
   "cell_type": "code",
   "execution_count": null,
   "id": "fa2e8e30",
   "metadata": {
    "execution": {
     "iopub.execute_input": "2021-09-23T21:20:34.381278Z",
     "iopub.status.busy": "2021-09-23T21:20:34.380484Z",
     "iopub.status.idle": "2021-09-24T04:54:18.056705Z",
     "shell.execute_reply": "2021-09-24T04:54:18.057147Z",
     "shell.execute_reply.started": "2021-09-23T16:01:55.683568Z"
    },
    "papermill": {
     "duration": 27223.711152,
     "end_time": "2021-09-24T04:54:18.057328",
     "exception": false,
     "start_time": "2021-09-23T21:20:34.346176",
     "status": "completed"
    },
    "tags": []
   },
   "outputs": [],
   "source": [
    "pred_oof, pred_test = k_fold(\n",
    "    Config, \n",
    "    df_train,\n",
    "    df_test,\n",
    ")"
   ]
  },
  {
   "cell_type": "markdown",
   "id": "cdd106c6",
   "metadata": {
    "papermill": {
     "duration": 0.284053,
     "end_time": "2021-09-24T04:54:18.623260",
     "exception": false,
     "start_time": "2021-09-24T04:54:18.339207",
     "status": "completed"
    },
    "tags": []
   },
   "source": [
    "### Predictions"
   ]
  },
  {
   "cell_type": "code",
   "execution_count": 40,
   "id": "a29db341",
   "metadata": {
    "execution": {
     "iopub.execute_input": "2021-09-24T04:54:19.999984Z",
     "iopub.status.busy": "2021-09-24T04:54:19.998939Z",
     "iopub.status.idle": "2021-09-24T04:54:20.024023Z",
     "shell.execute_reply": "2021-09-24T04:54:20.024443Z",
     "shell.execute_reply.started": "2021-09-23T17:17:15.938849Z"
    },
    "papermill": {
     "duration": 0.468959,
     "end_time": "2021-09-24T04:54:20.024578",
     "exception": false,
     "start_time": "2021-09-24T04:54:19.555619",
     "status": "completed"
    },
    "tags": []
   },
   "outputs": [],
   "source": [
    "df_train[\"pred\"] = pred_oof"
   ]
  },
  {
   "cell_type": "code",
   "execution_count": null,
   "id": "a8c42d53",
   "metadata": {
    "execution": {
     "iopub.execute_input": "2021-09-24T04:54:20.597998Z",
     "iopub.status.busy": "2021-09-24T04:54:20.597193Z",
     "iopub.status.idle": "2021-09-24T04:54:21.876139Z",
     "shell.execute_reply": "2021-09-24T04:54:21.876580Z",
     "shell.execute_reply.started": "2021-09-23T17:17:16.186296Z"
    },
    "papermill": {
     "duration": 1.571028,
     "end_time": "2021-09-24T04:54:21.876733",
     "exception": false,
     "start_time": "2021-09-24T04:54:20.305705",
     "status": "completed"
    },
    "tags": []
   },
   "outputs": [],
   "source": [
    "for i in df_train['breath_id'].unique()[:5]:\n",
    "    plot_prediction(i, df_train)"
   ]
  },
  {
   "cell_type": "markdown",
   "id": "0205e699",
   "metadata": {
    "papermill": {
     "duration": 0.285762,
     "end_time": "2021-09-24T04:54:22.448717",
     "exception": false,
     "start_time": "2021-09-24T04:54:22.162955",
     "status": "completed"
    },
    "tags": []
   },
   "source": [
    "## Sub"
   ]
  },
  {
   "cell_type": "code",
   "execution_count": null,
   "id": "c6b38809",
   "metadata": {
    "execution": {
     "iopub.execute_input": "2021-09-24T04:54:23.028762Z",
     "iopub.status.busy": "2021-09-24T04:54:23.027473Z",
     "iopub.status.idle": "2021-09-24T04:54:24.170166Z",
     "shell.execute_reply": "2021-09-24T04:54:24.169698Z",
     "shell.execute_reply.started": "2021-09-23T17:17:17.442946Z"
    },
    "papermill": {
     "duration": 1.437495,
     "end_time": "2021-09-24T04:54:24.170299",
     "exception": false,
     "start_time": "2021-09-24T04:54:22.732804",
     "status": "completed"
    },
    "tags": []
   },
   "outputs": [],
   "source": [
    "df_test['pred'] = pred_test\n",
    "\n",
    "for i in df_test['breath_id'].unique()[:5]:\n",
    "    plot_prediction(i, df_test)"
   ]
  },
  {
   "cell_type": "code",
   "execution_count": 43,
   "id": "8a40db30",
   "metadata": {
    "execution": {
     "iopub.execute_input": "2021-09-24T04:54:24.834106Z",
     "iopub.status.busy": "2021-09-24T04:54:24.832970Z",
     "iopub.status.idle": "2021-09-24T04:54:34.718271Z",
     "shell.execute_reply": "2021-09-24T04:54:34.717745Z",
     "shell.execute_reply.started": "2021-09-23T17:17:18.577955Z"
    },
    "papermill": {
     "duration": 10.2499,
     "end_time": "2021-09-24T04:54:34.718443",
     "exception": false,
     "start_time": "2021-09-24T04:54:24.468543",
     "status": "completed"
    },
    "tags": []
   },
   "outputs": [],
   "source": [
    "sub['pressure'] = pred_test\n",
    "sub.to_csv('submission.csv', index=False)"
   ]
  }
 ],
 "metadata": {
  "kernelspec": {
   "display_name": "Python 3",
   "language": "python",
   "name": "python3"
  },
  "language_info": {
   "codemirror_mode": {
    "name": "ipython",
    "version": 3
   },
   "file_extension": ".py",
   "mimetype": "text/x-python",
   "name": "python",
   "nbconvert_exporter": "python",
   "pygments_lexer": "ipython3",
   "version": "3.10.9"
  },
  "papermill": {
   "default_parameters": {},
   "duration": 27276.852477,
   "end_time": "2021-09-24T04:54:39.149808",
   "environment_variables": {},
   "exception": null,
   "input_path": "__notebook__.ipynb",
   "output_path": "__notebook__.ipynb",
   "parameters": {},
   "start_time": "2021-09-23T21:20:02.297331",
   "version": "2.3.3"
  }
 },
 "nbformat": 4,
 "nbformat_minor": 5
}
