{
 "cells": [
  {
   "attachments": {},
   "cell_type": "markdown",
   "id": "56487c46",
   "metadata": {},
   "source": [
    "<a href=\"https://www.youtube.com/watch?v=mUYXhzVrDF8&list=PLxqBkZuBynVS8mDTc8ZGermXiS-32pR2y&index=38&ab_channel=Rohan-Paul-AI\"><h1 style=\"font-size:250%; font-family:cursive; color:#ff6666;\"><b>Link YouTube Video - Feature Engineering for Bitcoin Time Series | Prediction with XGBoost </b></h1></a>\n",
    "\n",
    "[![IMAGE ALT TEXT](https://imgur.com/f69J9EO.png)](https://www.youtube.com/watch?v=mUYXhzVrDF8&list=PLxqBkZuBynVS8mDTc8ZGermXiS-32pR2y&index=38&ab_channel=Rohan-Paul-AI)\n",
    "\n",
    "\n",
    "-------------------------\n",
    "\n",
    "## [The data in Kaggle](https://www.kaggle.com/competitions/g-research-crypto-forecasting/overview)"
   ]
  },
  {
   "attachments": {},
   "cell_type": "markdown",
   "id": "e1f9b4cd",
   "metadata": {},
   "source": [
    "I will work with Time Series Data of Bitcoin prices taken from this recent Kaggle competition and apply some of the most typical Feature Engineering to make it ready for any tabular Machine Learning Algorithm. And then I will apply XGBoost to come up with a Prediction of Bitcoin Prices."
   ]
  },
  {
   "attachments": {},
   "cell_type": "markdown",
   "id": "4b27d1f2",
   "metadata": {
    "papermill": {
     "duration": 0.11619,
     "end_time": "2022-01-27T14:49:22.974659",
     "exception": false,
     "start_time": "2022-01-27T14:49:22.858469",
     "status": "completed"
    },
    "tags": []
   },
   "source": [
    "### Contents\n",
    "\n",
    "[Preprocessing](#Preprocessing)  \n",
    "\n",
    "[Feature engineering](#Feature-engineering)  \n",
    "\n",
    "[XGBOOST Data Preparation](#XGBOOST-Data-Preparation)\n",
    "\n",
    "[XGBOOST Training](#XGBOOST-Training)\n",
    "\n",
    "[XGBOOST Inference on Test set](#XGBOOST-Inference-on-Test-set)\n",
    "\n",
    "--------------"
   ]
  },
  {
   "cell_type": "code",
   "execution_count": 100,
   "id": "3447c62c",
   "metadata": {
    "execution": {
     "iopub.execute_input": "2022-01-27T14:49:23.667769Z",
     "iopub.status.busy": "2022-01-27T14:49:23.666468Z",
     "iopub.status.idle": "2022-01-27T14:49:23.676016Z",
     "shell.execute_reply": "2022-01-27T14:49:23.676655Z",
     "shell.execute_reply.started": "2022-01-24T21:19:22.719185Z"
    },
    "papermill": {
     "duration": 0.1284,
     "end_time": "2022-01-27T14:49:23.676970",
     "exception": false,
     "start_time": "2022-01-27T14:49:23.548570",
     "status": "completed"
    },
    "tags": []
   },
   "outputs": [],
   "source": [
    "import pandas as pd\n",
    "import numpy as np\n",
    "import os \n",
    "import time\n",
    "\n",
    "import matplotlib.pyplot as plt\n",
    "\n",
    "from datetime import datetime\n",
    "\n",
    "import plotly.graph_objects as go\n",
    "import plotly.express as px\n",
    "\n",
    "from preprocess import *\n",
    "from train import *"
   ]
  },
  {
   "cell_type": "code",
   "execution_count": 101,
   "id": "def89bfa",
   "metadata": {},
   "outputs": [],
   "source": [
    "ROOT_DIR = '../input/'\n",
    "\n",
    "# ROOT_DIR = '../input/g-research-crypto-forecasting/' # Kaggle Kernel"
   ]
  },
  {
   "cell_type": "code",
   "execution_count": 104,
   "id": "0e52ba5a",
   "metadata": {
    "execution": {
     "iopub.execute_input": "2022-01-27T14:49:25.132082Z",
     "iopub.status.busy": "2022-01-27T14:49:25.131385Z",
     "iopub.status.idle": "2022-01-27T14:50:30.956736Z",
     "shell.execute_reply": "2022-01-27T14:50:30.957406Z",
     "shell.execute_reply.started": "2022-01-24T21:19:23.491155Z"
    },
    "papermill": {
     "duration": 65.947886,
     "end_time": "2022-01-27T14:50:30.957750",
     "exception": false,
     "start_time": "2022-01-27T14:49:25.009864",
     "status": "completed"
    },
    "tags": []
   },
   "outputs": [
    {
     "name": "stdout",
     "output_type": "stream",
     "text": [
      "12.830771684646606\n"
     ]
    }
   ],
   "source": [
    "start = time.time()\n",
    "\n",
    "main_full_df = pd.read_csv(os.path.join(ROOT_DIR, 'train.csv'))\n",
    "\n",
    "end = time.time()\n",
    "print(end - start)"
   ]
  },
  {
   "cell_type": "code",
   "execution_count": 105,
   "id": "2b3504e4",
   "metadata": {
    "execution": {
     "iopub.execute_input": "2022-01-27T14:50:31.198291Z",
     "iopub.status.busy": "2022-01-27T14:50:31.197551Z",
     "iopub.status.idle": "2022-01-27T14:50:31.200504Z",
     "shell.execute_reply": "2022-01-27T14:50:31.201098Z",
     "shell.execute_reply.started": "2022-01-24T21:20:28.264722Z"
    },
    "papermill": {
     "duration": 0.129954,
     "end_time": "2022-01-27T14:50:31.201280",
     "exception": false,
     "start_time": "2022-01-27T14:50:31.071326",
     "status": "completed"
    },
    "tags": []
   },
   "outputs": [
    {
     "data": {
      "text/plain": [
       "(24236806, 10)"
      ]
     },
     "execution_count": 105,
     "metadata": {},
     "output_type": "execute_result"
    }
   ],
   "source": [
    "main_full_df.shape"
   ]
  },
  {
   "attachments": {},
   "cell_type": "markdown",
   "id": "f2d0320c",
   "metadata": {
    "papermill": {
     "duration": 0.112902,
     "end_time": "2022-01-27T14:50:31.427309",
     "exception": false,
     "start_time": "2022-01-27T14:50:31.314407",
     "status": "completed"
    },
    "tags": []
   },
   "source": [
    "## So there are 24.2 million rows in our time series."
   ]
  },
  {
   "cell_type": "code",
   "execution_count": 106,
   "id": "eebb40a5",
   "metadata": {
    "execution": {
     "iopub.execute_input": "2022-01-27T14:50:31.671253Z",
     "iopub.status.busy": "2022-01-27T14:50:31.662602Z",
     "iopub.status.idle": "2022-01-27T14:50:31.693992Z",
     "shell.execute_reply": "2022-01-27T14:50:31.694635Z",
     "shell.execute_reply.started": "2022-01-24T21:20:28.277037Z"
    },
    "papermill": {
     "duration": 0.150908,
     "end_time": "2022-01-27T14:50:31.694808",
     "exception": false,
     "start_time": "2022-01-27T14:50:31.543900",
     "status": "completed"
    },
    "tags": []
   },
   "outputs": [
    {
     "data": {
      "text/html": [
       "<div>\n",
       "<style scoped>\n",
       "    .dataframe tbody tr th:only-of-type {\n",
       "        vertical-align: middle;\n",
       "    }\n",
       "\n",
       "    .dataframe tbody tr th {\n",
       "        vertical-align: top;\n",
       "    }\n",
       "\n",
       "    .dataframe thead th {\n",
       "        text-align: right;\n",
       "    }\n",
       "</style>\n",
       "<table border=\"1\" class=\"dataframe\">\n",
       "  <thead>\n",
       "    <tr style=\"text-align: right;\">\n",
       "      <th></th>\n",
       "      <th>timestamp</th>\n",
       "      <th>Asset_ID</th>\n",
       "      <th>Count</th>\n",
       "      <th>Open</th>\n",
       "      <th>High</th>\n",
       "      <th>Low</th>\n",
       "      <th>Close</th>\n",
       "      <th>Volume</th>\n",
       "      <th>VWAP</th>\n",
       "      <th>Target</th>\n",
       "    </tr>\n",
       "  </thead>\n",
       "  <tbody>\n",
       "    <tr>\n",
       "      <th>0</th>\n",
       "      <td>1514764860</td>\n",
       "      <td>2</td>\n",
       "      <td>40.0</td>\n",
       "      <td>2376.58</td>\n",
       "      <td>2399.50</td>\n",
       "      <td>2357.14</td>\n",
       "      <td>2374.59</td>\n",
       "      <td>19.233005</td>\n",
       "      <td>2373.116392</td>\n",
       "      <td>-0.004218</td>\n",
       "    </tr>\n",
       "    <tr>\n",
       "      <th>1</th>\n",
       "      <td>1514764860</td>\n",
       "      <td>0</td>\n",
       "      <td>5.0</td>\n",
       "      <td>8.53</td>\n",
       "      <td>8.53</td>\n",
       "      <td>8.53</td>\n",
       "      <td>8.53</td>\n",
       "      <td>78.380000</td>\n",
       "      <td>8.530000</td>\n",
       "      <td>-0.014399</td>\n",
       "    </tr>\n",
       "  </tbody>\n",
       "</table>\n",
       "</div>"
      ],
      "text/plain": [
       "    timestamp  Asset_ID  Count     Open     High      Low    Close     Volume   \n",
       "0  1514764860         2   40.0  2376.58  2399.50  2357.14  2374.59  19.233005  \\\n",
       "1  1514764860         0    5.0     8.53     8.53     8.53     8.53  78.380000   \n",
       "\n",
       "          VWAP    Target  \n",
       "0  2373.116392 -0.004218  \n",
       "1     8.530000 -0.014399  "
      ]
     },
     "execution_count": 106,
     "metadata": {},
     "output_type": "execute_result"
    }
   ],
   "source": [
    "main_full_df.head(2)"
   ]
  },
  {
   "cell_type": "code",
   "execution_count": 108,
   "id": "6ef97d55",
   "metadata": {},
   "outputs": [
    {
     "name": "stdout",
     "output_type": "stream",
     "text": [
      "Total memory consumed by the DataFrame: 1849.12 MB\n"
     ]
    }
   ],
   "source": [
    "get_dataframe_memory_usage(main_full_df)"
   ]
  },
  {
   "attachments": {},
   "cell_type": "markdown",
   "id": "8008fb6e",
   "metadata": {},
   "source": [
    "## Reduce the memory of this large dataframe"
   ]
  },
  {
   "cell_type": "code",
   "execution_count": 109,
   "id": "121c9219",
   "metadata": {},
   "outputs": [],
   "source": [
    "main_full_df = reduce_memory_usage(main_full_df)"
   ]
  },
  {
   "cell_type": "code",
   "execution_count": 110,
   "id": "58f90e25",
   "metadata": {},
   "outputs": [
    {
     "name": "stdout",
     "output_type": "stream",
     "text": [
      "Total memory consumed by the DataFrame: 716.53 MB\n"
     ]
    }
   ],
   "source": [
    "get_dataframe_memory_usage(main_full_df)"
   ]
  },
  {
   "attachments": {},
   "cell_type": "markdown",
   "id": "8b38c549",
   "metadata": {
    "papermill": {
     "duration": 0.11752,
     "end_time": "2022-01-27T14:50:31.926096",
     "exception": false,
     "start_time": "2022-01-27T14:50:31.808576",
     "status": "completed"
    },
    "tags": []
   },
   "source": [
    "**Data features**  \n",
    "\n",
    "- **timestamp** - Unix timestamps (the number of seconds elapsed since 1970-01-01 00:00:00.000 UTC). Timestamps in this dataset are multiple of 60, indicating minute-by-minute data.\n",
    "- **Asset_ID** - uniquely identifies the traded coin\n",
    "- **Count** - number of trades executed within the respective minute\n",
    "- **Open, High, Low, Close** - the usual price details for a given unit of time. \n",
    "- **Volume** - amount of units of this coin traded in the particular minute\n",
    "- **VWAP** - The average price of the asset over the time interval, weighted by volume. VWAP is an aggregated form of trade data.\n",
    "- **Target** - Residual log-returns for the asset over a 15 minute horizon <- we know this from the competition's official description."
   ]
  },
  {
   "cell_type": "code",
   "execution_count": 114,
   "id": "9b01f2cb",
   "metadata": {
    "execution": {
     "iopub.execute_input": "2022-01-27T14:50:32.157612Z",
     "iopub.status.busy": "2022-01-27T14:50:32.156913Z",
     "iopub.status.idle": "2022-01-27T14:50:32.167644Z",
     "shell.execute_reply": "2022-01-27T14:50:32.166979Z",
     "shell.execute_reply.started": "2022-01-24T21:20:28.316827Z"
    },
    "papermill": {
     "duration": 0.12776,
     "end_time": "2022-01-27T14:50:32.167790",
     "exception": false,
     "start_time": "2022-01-27T14:50:32.040030",
     "status": "completed"
    },
    "tags": []
   },
   "outputs": [
    {
     "name": "stdout",
     "output_type": "stream",
     "text": [
      "Data from 2018-01-01T00:01:00 until 2021-09-21T00:00:00\n"
     ]
    }
   ],
   "source": [
    "start = main_full_df.iloc[0].timestamp.astype('datetime64[s]')\n",
    "# .iloc[0] - Selects the first row in the DataFrame using integer-location-based indexing (iloc) with the index 0.\n",
    "# .astype('datetime64[s]'): This part of the code is converting the value in the 'timestamp' column to 'datetime64[s]' format that represents a datetime with a time resolution of seconds.\n",
    "\n",
    "end = main_full_df.iloc[-1].timestamp.astype('datetime64[s]')\n",
    "\n",
    "print(f'Data from {start} until {end}')"
   ]
  },
  {
   "attachments": {},
   "cell_type": "markdown",
   "id": "2322294c",
   "metadata": {
    "papermill": {
     "duration": 0.126956,
     "end_time": "2022-01-27T14:50:32.434657",
     "exception": false,
     "start_time": "2022-01-27T14:50:32.307701",
     "status": "completed"
    },
    "tags": []
   },
   "source": [
    "We have approximately 3 years worth of data. This informs the type of time windows we can look at.  \n",
    "\n",
    "For example, if we zoom out at an yearly resolution, we can only compare 2018, 2019 and 2020 (2021 is incomplete)."
   ]
  },
  {
   "attachments": {},
   "cell_type": "markdown",
   "id": "d6709488",
   "metadata": {
    "papermill": {
     "duration": 0.116589,
     "end_time": "2022-01-27T14:50:33.645977",
     "exception": false,
     "start_time": "2022-01-27T14:50:33.529388",
     "status": "completed"
    },
    "tags": []
   },
   "source": [
    "# Basic trading data visualization"
   ]
  },
  {
   "attachments": {},
   "cell_type": "markdown",
   "id": "cb8c234f",
   "metadata": {
    "papermill": {
     "duration": 0.114117,
     "end_time": "2022-01-27T14:50:33.874429",
     "exception": false,
     "start_time": "2022-01-27T14:50:33.760312",
     "status": "completed"
    },
    "tags": []
   },
   "source": [
    "Get a subset of our data (the last 60 entries for example) and restrict the analysis to one asset (which makes it a univariate analysis). "
   ]
  },
  {
   "cell_type": "code",
   "execution_count": 117,
   "id": "07917c36",
   "metadata": {
    "execution": {
     "iopub.execute_input": "2022-01-27T14:50:34.114259Z",
     "iopub.status.busy": "2022-01-27T14:50:34.109427Z",
     "iopub.status.idle": "2022-01-27T14:50:34.476551Z",
     "shell.execute_reply": "2022-01-27T14:50:34.477262Z",
     "shell.execute_reply.started": "2022-01-24T21:20:28.364638Z"
    },
    "papermill": {
     "duration": 0.489041,
     "end_time": "2022-01-27T14:50:34.477446",
     "exception": false,
     "start_time": "2022-01-27T14:50:33.988405",
     "status": "completed"
    },
    "tags": []
   },
   "outputs": [],
   "source": [
    "btc_mini_df_60_rows = main_full_df[main_full_df.Asset_ID == 1].iloc[-60:]"
   ]
  },
  {
   "attachments": {},
   "cell_type": "markdown",
   "id": "659f4fca",
   "metadata": {
    "papermill": {
     "duration": 0.115997,
     "end_time": "2022-01-27T14:50:34.969624",
     "exception": false,
     "start_time": "2022-01-27T14:50:34.853627",
     "status": "completed"
    },
    "tags": []
   },
   "source": [
    "Let's transform the timestamp into the index of our dataframe. This will facilitate some operations down the road."
   ]
  },
  {
   "cell_type": "code",
   "execution_count": 118,
   "id": "b61ec63f",
   "metadata": {
    "execution": {
     "iopub.execute_input": "2022-01-27T14:50:35.207751Z",
     "iopub.status.busy": "2022-01-27T14:50:35.206891Z",
     "iopub.status.idle": "2022-01-27T14:50:35.212237Z",
     "shell.execute_reply": "2022-01-27T14:50:35.212788Z",
     "shell.execute_reply.started": "2022-01-24T21:20:28.670591Z"
    },
    "papermill": {
     "duration": 0.126189,
     "end_time": "2022-01-27T14:50:35.212983",
     "exception": false,
     "start_time": "2022-01-27T14:50:35.086794",
     "status": "completed"
    },
    "tags": []
   },
   "outputs": [],
   "source": [
    "btc_mini_df_60_rows = btc_mini_df_60_rows.set_index(\"timestamp\")"
   ]
  },
  {
   "attachments": {},
   "cell_type": "markdown",
   "id": "dea7a2e6",
   "metadata": {
    "papermill": {
     "duration": 0.113941,
     "end_time": "2022-01-27T14:50:35.441739",
     "exception": false,
     "start_time": "2022-01-27T14:50:35.327798",
     "status": "completed"
    },
    "tags": []
   },
   "source": [
    "use the **candlestick** function from the **graph_objects package** of plotly to visualize trading data as the common candlestick plot."
   ]
  },
  {
   "attachments": {},
   "cell_type": "markdown",
   "id": "aca51ee2",
   "metadata": {},
   "source": [
    "## The `go.Candlestick` trace in Plotly expects the input data to be of type float64 or float32.\n",
    "\n",
    "Therefore, if your DataFrame columns are of type float16, you may need to convert them to a supported data type before passing them to the go.Candlestick trace.\n",
    "\n",
    "Hence, before check the Dtype of the columns of my btc_shorter_df_for_training\n",
    "\n",
    "And if some of them are of float16, I need a solution to run `go.Candlestick` while keeping the type float16 "
   ]
  },
  {
   "attachments": {},
   "cell_type": "markdown",
   "id": "6a5ee1a7",
   "metadata": {},
   "source": [
    "### Create some new variables for `go.Candlestick` so that I can keep the type float16"
   ]
  },
  {
   "cell_type": "code",
   "execution_count": 119,
   "id": "c21212d5",
   "metadata": {},
   "outputs": [
    {
     "data": {
      "application/vnd.plotly.v1+json": {
       "config": {
        "plotlyServerURL": "https://plot.ly"
       },
       "data": [
        {
         "close": [
          43360,
          43488,
          43584,
          43456,
          43200,
          43200,
          43264,
          43232,
          43104,
          43072,
          43072,
          42976,
          42976,
          43232,
          43136,
          43200,
          43104,
          43168,
          43104,
          43040,
          42976,
          43008,
          42880,
          42816,
          42688,
          42784,
          42784,
          42688,
          42656,
          42592,
          42624,
          42592,
          42688,
          42688,
          42752,
          42816,
          42752,
          42784,
          42624,
          42688,
          42784,
          42752,
          42720,
          42656,
          42688,
          42784,
          42784,
          42720,
          42912,
          42944,
          42912,
          42976,
          42976,
          42976,
          42976,
          42912,
          42848,
          42816,
          43008,
          43008
         ],
         "high": [
          43392,
          43552,
          43648,
          43616,
          43456,
          43264,
          43360,
          43296,
          43296,
          43136,
          43104,
          43072,
          43072,
          43296,
          43360,
          43232,
          43232,
          43200,
          43168,
          43136,
          43072,
          43040,
          43008,
          42912,
          42880,
          42848,
          42816,
          42848,
          42720,
          42784,
          42688,
          42656,
          42720,
          42816,
          42848,
          42880,
          42848,
          42848,
          42848,
          42752,
          42816,
          42816,
          42816,
          42752,
          42720,
          42816,
          42816,
          42816,
          42944,
          42976,
          42976,
          43008,
          43008,
          43008,
          43008,
          43008,
          42944,
          42880,
          43040,
          43040
         ],
         "low": [
          43296,
          43328,
          43456,
          43424,
          43168,
          43136,
          43200,
          43232,
          43072,
          43040,
          43008,
          42944,
          42976,
          42976,
          43104,
          43040,
          43104,
          43072,
          43072,
          43008,
          42912,
          42912,
          42816,
          42784,
          42656,
          42656,
          42656,
          42688,
          42624,
          42560,
          42592,
          42528,
          42560,
          42624,
          42656,
          42752,
          42688,
          42720,
          42592,
          42592,
          42688,
          42688,
          42688,
          42624,
          42624,
          42656,
          42752,
          42720,
          42720,
          42848,
          42912,
          42912,
          42944,
          42944,
          42944,
          42880,
          42848,
          42784,
          42816,
          42976
         ],
         "open": [
          43360,
          43360,
          43488,
          43584,
          43456,
          43200,
          43232,
          43264,
          43232,
          43104,
          43072,
          43040,
          43008,
          43008,
          43232,
          43136,
          43200,
          43104,
          43168,
          43072,
          43040,
          42976,
          42976,
          42880,
          42816,
          42720,
          42752,
          42784,
          42688,
          42688,
          42592,
          42624,
          42592,
          42688,
          42688,
          42784,
          42816,
          42752,
          42752,
          42624,
          42720,
          42784,
          42752,
          42688,
          42656,
          42688,
          42784,
          42784,
          42752,
          42912,
          42944,
          42944,
          42976,
          42976,
          42976,
          42976,
          42912,
          42848,
          42848,
          43008
         ],
         "type": "candlestick",
         "x": [
          1632178860,
          1632178920,
          1632178980,
          1632179040,
          1632179100,
          1632179160,
          1632179220,
          1632179280,
          1632179340,
          1632179400,
          1632179460,
          1632179520,
          1632179580,
          1632179640,
          1632179700,
          1632179760,
          1632179820,
          1632179880,
          1632179940,
          1632180000,
          1632180060,
          1632180120,
          1632180180,
          1632180240,
          1632180300,
          1632180360,
          1632180420,
          1632180480,
          1632180540,
          1632180600,
          1632180660,
          1632180720,
          1632180780,
          1632180840,
          1632180900,
          1632180960,
          1632181020,
          1632181080,
          1632181140,
          1632181200,
          1632181260,
          1632181320,
          1632181380,
          1632181440,
          1632181500,
          1632181560,
          1632181620,
          1632181680,
          1632181740,
          1632181800,
          1632181860,
          1632181920,
          1632181980,
          1632182040,
          1632182100,
          1632182160,
          1632182220,
          1632182280,
          1632182340,
          1632182400
         ]
        }
       ],
       "layout": {
        "template": {
         "data": {
          "bar": [
           {
            "error_x": {
             "color": "#2a3f5f"
            },
            "error_y": {
             "color": "#2a3f5f"
            },
            "marker": {
             "line": {
              "color": "#E5ECF6",
              "width": 0.5
             },
             "pattern": {
              "fillmode": "overlay",
              "size": 10,
              "solidity": 0.2
             }
            },
            "type": "bar"
           }
          ],
          "barpolar": [
           {
            "marker": {
             "line": {
              "color": "#E5ECF6",
              "width": 0.5
             },
             "pattern": {
              "fillmode": "overlay",
              "size": 10,
              "solidity": 0.2
             }
            },
            "type": "barpolar"
           }
          ],
          "carpet": [
           {
            "aaxis": {
             "endlinecolor": "#2a3f5f",
             "gridcolor": "white",
             "linecolor": "white",
             "minorgridcolor": "white",
             "startlinecolor": "#2a3f5f"
            },
            "baxis": {
             "endlinecolor": "#2a3f5f",
             "gridcolor": "white",
             "linecolor": "white",
             "minorgridcolor": "white",
             "startlinecolor": "#2a3f5f"
            },
            "type": "carpet"
           }
          ],
          "choropleth": [
           {
            "colorbar": {
             "outlinewidth": 0,
             "ticks": ""
            },
            "type": "choropleth"
           }
          ],
          "contour": [
           {
            "colorbar": {
             "outlinewidth": 0,
             "ticks": ""
            },
            "colorscale": [
             [
              0,
              "#0d0887"
             ],
             [
              0.1111111111111111,
              "#46039f"
             ],
             [
              0.2222222222222222,
              "#7201a8"
             ],
             [
              0.3333333333333333,
              "#9c179e"
             ],
             [
              0.4444444444444444,
              "#bd3786"
             ],
             [
              0.5555555555555556,
              "#d8576b"
             ],
             [
              0.6666666666666666,
              "#ed7953"
             ],
             [
              0.7777777777777778,
              "#fb9f3a"
             ],
             [
              0.8888888888888888,
              "#fdca26"
             ],
             [
              1,
              "#f0f921"
             ]
            ],
            "type": "contour"
           }
          ],
          "contourcarpet": [
           {
            "colorbar": {
             "outlinewidth": 0,
             "ticks": ""
            },
            "type": "contourcarpet"
           }
          ],
          "heatmap": [
           {
            "colorbar": {
             "outlinewidth": 0,
             "ticks": ""
            },
            "colorscale": [
             [
              0,
              "#0d0887"
             ],
             [
              0.1111111111111111,
              "#46039f"
             ],
             [
              0.2222222222222222,
              "#7201a8"
             ],
             [
              0.3333333333333333,
              "#9c179e"
             ],
             [
              0.4444444444444444,
              "#bd3786"
             ],
             [
              0.5555555555555556,
              "#d8576b"
             ],
             [
              0.6666666666666666,
              "#ed7953"
             ],
             [
              0.7777777777777778,
              "#fb9f3a"
             ],
             [
              0.8888888888888888,
              "#fdca26"
             ],
             [
              1,
              "#f0f921"
             ]
            ],
            "type": "heatmap"
           }
          ],
          "heatmapgl": [
           {
            "colorbar": {
             "outlinewidth": 0,
             "ticks": ""
            },
            "colorscale": [
             [
              0,
              "#0d0887"
             ],
             [
              0.1111111111111111,
              "#46039f"
             ],
             [
              0.2222222222222222,
              "#7201a8"
             ],
             [
              0.3333333333333333,
              "#9c179e"
             ],
             [
              0.4444444444444444,
              "#bd3786"
             ],
             [
              0.5555555555555556,
              "#d8576b"
             ],
             [
              0.6666666666666666,
              "#ed7953"
             ],
             [
              0.7777777777777778,
              "#fb9f3a"
             ],
             [
              0.8888888888888888,
              "#fdca26"
             ],
             [
              1,
              "#f0f921"
             ]
            ],
            "type": "heatmapgl"
           }
          ],
          "histogram": [
           {
            "marker": {
             "pattern": {
              "fillmode": "overlay",
              "size": 10,
              "solidity": 0.2
             }
            },
            "type": "histogram"
           }
          ],
          "histogram2d": [
           {
            "colorbar": {
             "outlinewidth": 0,
             "ticks": ""
            },
            "colorscale": [
             [
              0,
              "#0d0887"
             ],
             [
              0.1111111111111111,
              "#46039f"
             ],
             [
              0.2222222222222222,
              "#7201a8"
             ],
             [
              0.3333333333333333,
              "#9c179e"
             ],
             [
              0.4444444444444444,
              "#bd3786"
             ],
             [
              0.5555555555555556,
              "#d8576b"
             ],
             [
              0.6666666666666666,
              "#ed7953"
             ],
             [
              0.7777777777777778,
              "#fb9f3a"
             ],
             [
              0.8888888888888888,
              "#fdca26"
             ],
             [
              1,
              "#f0f921"
             ]
            ],
            "type": "histogram2d"
           }
          ],
          "histogram2dcontour": [
           {
            "colorbar": {
             "outlinewidth": 0,
             "ticks": ""
            },
            "colorscale": [
             [
              0,
              "#0d0887"
             ],
             [
              0.1111111111111111,
              "#46039f"
             ],
             [
              0.2222222222222222,
              "#7201a8"
             ],
             [
              0.3333333333333333,
              "#9c179e"
             ],
             [
              0.4444444444444444,
              "#bd3786"
             ],
             [
              0.5555555555555556,
              "#d8576b"
             ],
             [
              0.6666666666666666,
              "#ed7953"
             ],
             [
              0.7777777777777778,
              "#fb9f3a"
             ],
             [
              0.8888888888888888,
              "#fdca26"
             ],
             [
              1,
              "#f0f921"
             ]
            ],
            "type": "histogram2dcontour"
           }
          ],
          "mesh3d": [
           {
            "colorbar": {
             "outlinewidth": 0,
             "ticks": ""
            },
            "type": "mesh3d"
           }
          ],
          "parcoords": [
           {
            "line": {
             "colorbar": {
              "outlinewidth": 0,
              "ticks": ""
             }
            },
            "type": "parcoords"
           }
          ],
          "pie": [
           {
            "automargin": true,
            "type": "pie"
           }
          ],
          "scatter": [
           {
            "fillpattern": {
             "fillmode": "overlay",
             "size": 10,
             "solidity": 0.2
            },
            "type": "scatter"
           }
          ],
          "scatter3d": [
           {
            "line": {
             "colorbar": {
              "outlinewidth": 0,
              "ticks": ""
             }
            },
            "marker": {
             "colorbar": {
              "outlinewidth": 0,
              "ticks": ""
             }
            },
            "type": "scatter3d"
           }
          ],
          "scattercarpet": [
           {
            "marker": {
             "colorbar": {
              "outlinewidth": 0,
              "ticks": ""
             }
            },
            "type": "scattercarpet"
           }
          ],
          "scattergeo": [
           {
            "marker": {
             "colorbar": {
              "outlinewidth": 0,
              "ticks": ""
             }
            },
            "type": "scattergeo"
           }
          ],
          "scattergl": [
           {
            "marker": {
             "colorbar": {
              "outlinewidth": 0,
              "ticks": ""
             }
            },
            "type": "scattergl"
           }
          ],
          "scattermapbox": [
           {
            "marker": {
             "colorbar": {
              "outlinewidth": 0,
              "ticks": ""
             }
            },
            "type": "scattermapbox"
           }
          ],
          "scatterpolar": [
           {
            "marker": {
             "colorbar": {
              "outlinewidth": 0,
              "ticks": ""
             }
            },
            "type": "scatterpolar"
           }
          ],
          "scatterpolargl": [
           {
            "marker": {
             "colorbar": {
              "outlinewidth": 0,
              "ticks": ""
             }
            },
            "type": "scatterpolargl"
           }
          ],
          "scatterternary": [
           {
            "marker": {
             "colorbar": {
              "outlinewidth": 0,
              "ticks": ""
             }
            },
            "type": "scatterternary"
           }
          ],
          "surface": [
           {
            "colorbar": {
             "outlinewidth": 0,
             "ticks": ""
            },
            "colorscale": [
             [
              0,
              "#0d0887"
             ],
             [
              0.1111111111111111,
              "#46039f"
             ],
             [
              0.2222222222222222,
              "#7201a8"
             ],
             [
              0.3333333333333333,
              "#9c179e"
             ],
             [
              0.4444444444444444,
              "#bd3786"
             ],
             [
              0.5555555555555556,
              "#d8576b"
             ],
             [
              0.6666666666666666,
              "#ed7953"
             ],
             [
              0.7777777777777778,
              "#fb9f3a"
             ],
             [
              0.8888888888888888,
              "#fdca26"
             ],
             [
              1,
              "#f0f921"
             ]
            ],
            "type": "surface"
           }
          ],
          "table": [
           {
            "cells": {
             "fill": {
              "color": "#EBF0F8"
             },
             "line": {
              "color": "white"
             }
            },
            "header": {
             "fill": {
              "color": "#C8D4E3"
             },
             "line": {
              "color": "white"
             }
            },
            "type": "table"
           }
          ]
         },
         "layout": {
          "annotationdefaults": {
           "arrowcolor": "#2a3f5f",
           "arrowhead": 0,
           "arrowwidth": 1
          },
          "autotypenumbers": "strict",
          "coloraxis": {
           "colorbar": {
            "outlinewidth": 0,
            "ticks": ""
           }
          },
          "colorscale": {
           "diverging": [
            [
             0,
             "#8e0152"
            ],
            [
             0.1,
             "#c51b7d"
            ],
            [
             0.2,
             "#de77ae"
            ],
            [
             0.3,
             "#f1b6da"
            ],
            [
             0.4,
             "#fde0ef"
            ],
            [
             0.5,
             "#f7f7f7"
            ],
            [
             0.6,
             "#e6f5d0"
            ],
            [
             0.7,
             "#b8e186"
            ],
            [
             0.8,
             "#7fbc41"
            ],
            [
             0.9,
             "#4d9221"
            ],
            [
             1,
             "#276419"
            ]
           ],
           "sequential": [
            [
             0,
             "#0d0887"
            ],
            [
             0.1111111111111111,
             "#46039f"
            ],
            [
             0.2222222222222222,
             "#7201a8"
            ],
            [
             0.3333333333333333,
             "#9c179e"
            ],
            [
             0.4444444444444444,
             "#bd3786"
            ],
            [
             0.5555555555555556,
             "#d8576b"
            ],
            [
             0.6666666666666666,
             "#ed7953"
            ],
            [
             0.7777777777777778,
             "#fb9f3a"
            ],
            [
             0.8888888888888888,
             "#fdca26"
            ],
            [
             1,
             "#f0f921"
            ]
           ],
           "sequentialminus": [
            [
             0,
             "#0d0887"
            ],
            [
             0.1111111111111111,
             "#46039f"
            ],
            [
             0.2222222222222222,
             "#7201a8"
            ],
            [
             0.3333333333333333,
             "#9c179e"
            ],
            [
             0.4444444444444444,
             "#bd3786"
            ],
            [
             0.5555555555555556,
             "#d8576b"
            ],
            [
             0.6666666666666666,
             "#ed7953"
            ],
            [
             0.7777777777777778,
             "#fb9f3a"
            ],
            [
             0.8888888888888888,
             "#fdca26"
            ],
            [
             1,
             "#f0f921"
            ]
           ]
          },
          "colorway": [
           "#636efa",
           "#EF553B",
           "#00cc96",
           "#ab63fa",
           "#FFA15A",
           "#19d3f3",
           "#FF6692",
           "#B6E880",
           "#FF97FF",
           "#FECB52"
          ],
          "font": {
           "color": "#2a3f5f"
          },
          "geo": {
           "bgcolor": "white",
           "lakecolor": "white",
           "landcolor": "#E5ECF6",
           "showlakes": true,
           "showland": true,
           "subunitcolor": "white"
          },
          "hoverlabel": {
           "align": "left"
          },
          "hovermode": "closest",
          "mapbox": {
           "style": "light"
          },
          "paper_bgcolor": "white",
          "plot_bgcolor": "#E5ECF6",
          "polar": {
           "angularaxis": {
            "gridcolor": "white",
            "linecolor": "white",
            "ticks": ""
           },
           "bgcolor": "#E5ECF6",
           "radialaxis": {
            "gridcolor": "white",
            "linecolor": "white",
            "ticks": ""
           }
          },
          "scene": {
           "xaxis": {
            "backgroundcolor": "#E5ECF6",
            "gridcolor": "white",
            "gridwidth": 2,
            "linecolor": "white",
            "showbackground": true,
            "ticks": "",
            "zerolinecolor": "white"
           },
           "yaxis": {
            "backgroundcolor": "#E5ECF6",
            "gridcolor": "white",
            "gridwidth": 2,
            "linecolor": "white",
            "showbackground": true,
            "ticks": "",
            "zerolinecolor": "white"
           },
           "zaxis": {
            "backgroundcolor": "#E5ECF6",
            "gridcolor": "white",
            "gridwidth": 2,
            "linecolor": "white",
            "showbackground": true,
            "ticks": "",
            "zerolinecolor": "white"
           }
          },
          "shapedefaults": {
           "line": {
            "color": "#2a3f5f"
           }
          },
          "ternary": {
           "aaxis": {
            "gridcolor": "white",
            "linecolor": "white",
            "ticks": ""
           },
           "baxis": {
            "gridcolor": "white",
            "linecolor": "white",
            "ticks": ""
           },
           "bgcolor": "#E5ECF6",
           "caxis": {
            "gridcolor": "white",
            "linecolor": "white",
            "ticks": ""
           }
          },
          "title": {
           "x": 0.05
          },
          "xaxis": {
           "automargin": true,
           "gridcolor": "white",
           "linecolor": "white",
           "ticks": "",
           "title": {
            "standoff": 15
           },
           "zerolinecolor": "white",
           "zerolinewidth": 2
          },
          "yaxis": {
           "automargin": true,
           "gridcolor": "white",
           "linecolor": "white",
           "ticks": "",
           "title": {
            "standoff": 15
           },
           "zerolinecolor": "white",
           "zerolinewidth": 2
          }
         }
        }
       }
      }
     },
     "metadata": {},
     "output_type": "display_data"
    }
   ],
   "source": [
    "import plotly.graph_objects as go\n",
    "\n",
    "# Convert float16 columns to float32 for plotting\n",
    "open_data = btc_mini_df_60_rows['Open'].astype('float32')\n",
    "high_data = btc_mini_df_60_rows['High'].astype('float32')\n",
    "low_data = btc_mini_df_60_rows['Low'].astype('float32')\n",
    "close_data = btc_mini_df_60_rows['Close'].astype('float32')\n",
    "\n",
    "fig = go.Figure(data=[go.Candlestick(x=btc_mini_df_60_rows.index, \n",
    "                                     open=open_data, \n",
    "                                     high=high_data, \n",
    "                                     low=low_data, \n",
    "                                     close=close_data)])\n",
    "fig.show()\n"
   ]
  },
  {
   "attachments": {},
   "cell_type": "markdown",
   "id": "ff42f7b2",
   "metadata": {
    "papermill": {
     "duration": 0.118384,
     "end_time": "2022-01-27T14:50:36.061806",
     "exception": false,
     "start_time": "2022-01-27T14:50:35.943422",
     "status": "completed"
    },
    "tags": []
   },
   "source": [
    "Although candlestick plots are visually appealing, we will delve further into analyzing the trends, cycles, and seasonal patterns of the dataset. Currently, candlestick plots are only serving as a preliminary tool to help us obtain a basic view of the data."
   ]
  },
  {
   "attachments": {},
   "cell_type": "markdown",
   "id": "b24a0fea",
   "metadata": {
    "papermill": {
     "duration": 0.115774,
     "end_time": "2022-01-27T14:50:36.295822",
     "exception": false,
     "start_time": "2022-01-27T14:50:36.180048",
     "status": "completed"
    },
    "tags": []
   },
   "source": [
    "# Preprocessing\n",
    "\n",
    "Detecting features for which we have missing values is easy to do. We just look for null values per column.   "
   ]
  },
  {
   "cell_type": "code",
   "execution_count": 120,
   "id": "5996e91d",
   "metadata": {
    "execution": {
     "iopub.execute_input": "2022-01-27T14:50:36.545776Z",
     "iopub.status.busy": "2022-01-27T14:50:36.544642Z",
     "iopub.status.idle": "2022-01-27T14:50:36.943014Z",
     "shell.execute_reply": "2022-01-27T14:50:36.942337Z",
     "shell.execute_reply.started": "2022-01-24T21:20:28.837162Z"
    },
    "papermill": {
     "duration": 0.531001,
     "end_time": "2022-01-27T14:50:36.943158",
     "exception": false,
     "start_time": "2022-01-27T14:50:36.412157",
     "status": "completed"
    },
    "tags": []
   },
   "outputs": [
    {
     "name": "stdout",
     "output_type": "stream",
     "text": [
      "<class 'pandas.core.frame.DataFrame'>\n",
      "Index: 1956282 entries, 1514764860 to 1632182400\n",
      "Data columns (total 9 columns):\n",
      " #   Column    Non-Null Count    Dtype  \n",
      "---  ------    --------------    -----  \n",
      " 0   Asset_ID  1956282 non-null  int8   \n",
      " 1   Count     1956282 non-null  float32\n",
      " 2   Open      1956282 non-null  float16\n",
      " 3   High      1956282 non-null  float16\n",
      " 4   Low       1956282 non-null  float16\n",
      " 5   Close     1956282 non-null  float16\n",
      " 6   Volume    1956282 non-null  float32\n",
      " 7   VWAP      1956282 non-null  float64\n",
      " 8   Target    1955978 non-null  float16\n",
      "dtypes: float16(5), float32(2), float64(1), int8(1)\n",
      "memory usage: 57.8 MB\n"
     ]
    }
   ],
   "source": [
    "btc_df = main_full_df[main_full_df.Asset_ID == 1].set_index('timestamp')\n",
    "\n",
    "btc_df.info(show_counts =True)"
   ]
  },
  {
   "attachments": {},
   "cell_type": "markdown",
   "id": "c58a0225",
   "metadata": {
    "papermill": {
     "duration": 0.115987,
     "end_time": "2022-01-27T14:50:37.175369",
     "exception": false,
     "start_time": "2022-01-27T14:50:37.059382",
     "status": "completed"
    },
    "tags": []
   },
   "source": [
    "Or I can check for existenc of the null valued directly"
   ]
  },
  {
   "attachments": {},
   "cell_type": "markdown",
   "id": "7841d451",
   "metadata": {},
   "source": [
    "## Histograms and density plots  \n",
    "\n",
    "Some linear time series forecasting methods assume a well-behaved distribution of observations (like a normal distribution).  \n",
    "\n",
    "Before doing statistical tests to formally assess the assumption of normality, we can easily visualize our data as a histogram."
   ]
  },
  {
   "cell_type": "code",
   "execution_count": 121,
   "id": "a8cf71da",
   "metadata": {},
   "outputs": [
    {
     "data": {
      "image/png": "[encoded data removed]",
      "text/plain": [
       "<Figure size 800x500 with 1 Axes>"
      ]
     },
     "metadata": {},
     "output_type": "display_data"
    }
   ],
   "source": [
    "btc_df.Close.hist(figsize=(8,5))\n",
    "plt.title('Histogram of closing prices for BTC')\n",
    "plt.show()"
   ]
  },
  {
   "attachments": {},
   "cell_type": "markdown",
   "id": "f344e7d5",
   "metadata": {},
   "source": [
    "## KDE Density Plot"
   ]
  },
  {
   "cell_type": "code",
   "execution_count": 122,
   "id": "bc54cbb3",
   "metadata": {},
   "outputs": [],
   "source": [
    "btc_df.Close.plot(kind='kde')\n",
    "plt.title('Density plot of closing prices for BTC')\n",
    "plt.show()"
   ]
  },
  {
   "cell_type": "code",
   "execution_count": 123,
   "id": "20e72bf5",
   "metadata": {
    "execution": {
     "iopub.execute_input": "2022-01-27T14:50:37.410831Z",
     "iopub.status.busy": "2022-01-27T14:50:37.410121Z",
     "iopub.status.idle": "2022-01-27T14:50:37.450386Z",
     "shell.execute_reply": "2022-01-27T14:50:37.450855Z",
     "shell.execute_reply.started": "2022-01-24T21:20:29.173915Z"
    },
    "papermill": {
     "duration": 0.160129,
     "end_time": "2022-01-27T14:50:37.451033",
     "exception": false,
     "start_time": "2022-01-27T14:50:37.290904",
     "status": "completed"
    },
    "tags": []
   },
   "outputs": [
    {
     "data": {
      "text/plain": [
       "Asset_ID      0\n",
       "Count         0\n",
       "Open          0\n",
       "High          0\n",
       "Low           0\n",
       "Close         0\n",
       "Volume        0\n",
       "VWAP          0\n",
       "Target      304\n",
       "dtype: int64"
      ]
     },
     "execution_count": 123,
     "metadata": {},
     "output_type": "execute_result"
    }
   ],
   "source": [
    "btc_df.isna().sum()"
   ]
  },
  {
   "attachments": {},
   "cell_type": "markdown",
   "id": "c515e131",
   "metadata": {
    "papermill": {
     "duration": 0.11727,
     "end_time": "2022-01-27T14:50:37.687079",
     "exception": false,
     "start_time": "2022-01-27T14:50:37.569809",
     "status": "completed"
    },
    "tags": []
   },
   "source": [
    "Only a very small portion of the data is missing. We can drop those rows, impute the values etc. For now I am just going to leave it as it is, and deal with later.\n",
    "\n",
    "## The more difficult to find missing data is when we don't have any information at all for a particular minute. Which means that **whole rows may be missing** from our dataset.  \n",
    "\n",
    "We should have one row per minute per asset. Since we extracted the data for a single asset, we expect consecutive rows to have a difference of 60 seconds between their index values.  \n",
    "\n",
    "So, I want check the **time lag between consecutive entries** in our dataset."
   ]
  },
  {
   "cell_type": "code",
   "execution_count": 124,
   "id": "932df7ef",
   "metadata": {},
   "outputs": [
    {
     "data": {
      "text/plain": [
       "timestamp\n",
       "60     1956136\n",
       "120         78\n",
       "180         12\n",
       "240         11\n",
       "420          9\n",
       "Name: count, dtype: int64"
      ]
     },
     "execution_count": 124,
     "metadata": {},
     "output_type": "execute_result"
    }
   ],
   "source": [
    "check_for_missing_timestamp(btc_df)"
   ]
  },
  {
   "attachments": {},
   "cell_type": "markdown",
   "id": "ba04de2f",
   "metadata": {
    "papermill": {
     "duration": 0.119889,
     "end_time": "2022-01-27T14:50:38.190321",
     "exception": false,
     "start_time": "2022-01-27T14:50:38.070432",
     "status": "completed"
    },
    "tags": []
   },
   "source": [
    "From above, we can see that we have 78 instances where two consecutive entries are 120 seconds apart, instead of 60 sec, 12 instances which are apart by 180 seconds and so on.\n",
    "\n",
    "Now, given, this small gaps in data, the simple imputation strategy that we can apply here is that - fill in the missing data with the value from the most recent available minute.  "
   ]
  },
  {
   "cell_type": "code",
   "execution_count": 125,
   "id": "f201629e",
   "metadata": {
    "execution": {
     "iopub.execute_input": "2022-01-27T14:50:38.428426Z",
     "iopub.status.busy": "2022-01-27T14:50:38.427738Z",
     "iopub.status.idle": "2022-01-27T14:50:38.886681Z",
     "shell.execute_reply": "2022-01-27T14:50:38.886014Z",
     "shell.execute_reply.started": "2022-01-24T21:20:29.246266Z"
    },
    "papermill": {
     "duration": 0.579039,
     "end_time": "2022-01-27T14:50:38.886823",
     "exception": false,
     "start_time": "2022-01-27T14:50:38.307784",
     "status": "completed"
    },
    "tags": []
   },
   "outputs": [
    {
     "data": {
      "text/html": [
       "<div>\n",
       "<style scoped>\n",
       "    .dataframe tbody tr th:only-of-type {\n",
       "        vertical-align: middle;\n",
       "    }\n",
       "\n",
       "    .dataframe tbody tr th {\n",
       "        vertical-align: top;\n",
       "    }\n",
       "\n",
       "    .dataframe thead th {\n",
       "        text-align: right;\n",
       "    }\n",
       "</style>\n",
       "<table border=\"1\" class=\"dataframe\">\n",
       "  <thead>\n",
       "    <tr style=\"text-align: right;\">\n",
       "      <th></th>\n",
       "      <th>Asset_ID</th>\n",
       "      <th>Count</th>\n",
       "      <th>Open</th>\n",
       "      <th>High</th>\n",
       "      <th>Low</th>\n",
       "      <th>Close</th>\n",
       "      <th>Volume</th>\n",
       "      <th>VWAP</th>\n",
       "      <th>Target</th>\n",
       "    </tr>\n",
       "    <tr>\n",
       "      <th>timestamp</th>\n",
       "      <th></th>\n",
       "      <th></th>\n",
       "      <th></th>\n",
       "      <th></th>\n",
       "      <th></th>\n",
       "      <th></th>\n",
       "      <th></th>\n",
       "      <th></th>\n",
       "      <th></th>\n",
       "    </tr>\n",
       "  </thead>\n",
       "  <tbody>\n",
       "    <tr>\n",
       "      <th>1514764860</th>\n",
       "      <td>1</td>\n",
       "      <td>229.0</td>\n",
       "      <td>13832.0</td>\n",
       "      <td>14016.0</td>\n",
       "      <td>13664.0</td>\n",
       "      <td>13848.0</td>\n",
       "      <td>31.550062</td>\n",
       "      <td>13827.062093</td>\n",
       "      <td>-0.014641</td>\n",
       "    </tr>\n",
       "    <tr>\n",
       "      <th>1514764920</th>\n",
       "      <td>1</td>\n",
       "      <td>235.0</td>\n",
       "      <td>13832.0</td>\n",
       "      <td>14056.0</td>\n",
       "      <td>13680.0</td>\n",
       "      <td>13832.0</td>\n",
       "      <td>31.046432</td>\n",
       "      <td>13840.362591</td>\n",
       "      <td>-0.015038</td>\n",
       "    </tr>\n",
       "    <tr>\n",
       "      <th>1514764980</th>\n",
       "      <td>1</td>\n",
       "      <td>528.0</td>\n",
       "      <td>13824.0</td>\n",
       "      <td>14000.0</td>\n",
       "      <td>13600.0</td>\n",
       "      <td>13800.0</td>\n",
       "      <td>55.061821</td>\n",
       "      <td>13806.068014</td>\n",
       "      <td>-0.010307</td>\n",
       "    </tr>\n",
       "    <tr>\n",
       "      <th>1514765040</th>\n",
       "      <td>1</td>\n",
       "      <td>435.0</td>\n",
       "      <td>13800.0</td>\n",
       "      <td>14000.0</td>\n",
       "      <td>13576.0</td>\n",
       "      <td>13768.0</td>\n",
       "      <td>38.780529</td>\n",
       "      <td>13783.598101</td>\n",
       "      <td>-0.009003</td>\n",
       "    </tr>\n",
       "    <tr>\n",
       "      <th>1514765100</th>\n",
       "      <td>1</td>\n",
       "      <td>742.0</td>\n",
       "      <td>13768.0</td>\n",
       "      <td>13952.0</td>\n",
       "      <td>13552.0</td>\n",
       "      <td>13728.0</td>\n",
       "      <td>108.501640</td>\n",
       "      <td>13735.586842</td>\n",
       "      <td>-0.008080</td>\n",
       "    </tr>\n",
       "  </tbody>\n",
       "</table>\n",
       "</div>"
      ],
      "text/plain": [
       "            Asset_ID  Count     Open     High      Low    Close      Volume   \n",
       "timestamp                                                                     \n",
       "1514764860         1  229.0  13832.0  14016.0  13664.0  13848.0   31.550062  \\\n",
       "1514764920         1  235.0  13832.0  14056.0  13680.0  13832.0   31.046432   \n",
       "1514764980         1  528.0  13824.0  14000.0  13600.0  13800.0   55.061821   \n",
       "1514765040         1  435.0  13800.0  14000.0  13576.0  13768.0   38.780529   \n",
       "1514765100         1  742.0  13768.0  13952.0  13552.0  13728.0  108.501640   \n",
       "\n",
       "                    VWAP    Target  \n",
       "timestamp                           \n",
       "1514764860  13827.062093 -0.014641  \n",
       "1514764920  13840.362591 -0.015038  \n",
       "1514764980  13806.068014 -0.010307  \n",
       "1514765040  13783.598101 -0.009003  \n",
       "1514765100  13735.586842 -0.008080  "
      ]
     },
     "execution_count": 125,
     "metadata": {},
     "output_type": "execute_result"
    }
   ],
   "source": [
    "btc_df = impute_missing_data(btc_df)\n",
    "btc_df.head()"
   ]
  },
  {
   "attachments": {},
   "cell_type": "markdown",
   "id": "54bb49da",
   "metadata": {},
   "source": [
    "## Check the output to see no missing timestamp"
   ]
  },
  {
   "cell_type": "code",
   "execution_count": 126,
   "id": "01730bde",
   "metadata": {},
   "outputs": [
    {
     "data": {
      "text/plain": [
       "timestamp\n",
       "60    1956959\n",
       "Name: count, dtype: int64"
      ]
     },
     "execution_count": 126,
     "metadata": {},
     "output_type": "execute_result"
    }
   ],
   "source": [
    "check_for_missing_timestamp(btc_df)"
   ]
  },
  {
   "attachments": {},
   "cell_type": "markdown",
   "id": "d3b55889",
   "metadata": {
    "papermill": {
     "duration": 0.118002,
     "end_time": "2022-01-27T14:50:39.645966",
     "exception": false,
     "start_time": "2022-01-27T14:50:39.527964",
     "status": "completed"
    },
    "tags": []
   },
   "source": [
    "We don't need the index as a timestamp anymore. So lets just have it as a date."
   ]
  },
  {
   "cell_type": "code",
   "execution_count": 127,
   "id": "535a2c12",
   "metadata": {},
   "outputs": [
    {
     "data": {
      "text/plain": [
       "\" In this lambda function, `r.name` refers to the index of the row r being processed. The index values are assumed to be of float64 data type, so `np.float64(r.name)` converts the index value to a `float64` data type.\\n\\nThen, the `astype()` method is called on the float64 value, with the argument 'datetime64[s]', which converts the float64 value to a datetime object with second-level precision.\\n\\nFinally, the lambda function returns the datetime object, which is assigned to the 'datetime' column of the DataFrame. \""
      ]
     },
     "execution_count": 127,
     "metadata": {},
     "output_type": "execute_result"
    }
   ],
   "source": [
    "def set_datetime_index(df: pd.DataFrame, index_name: str = 'datetime') -> pd.DataFrame:\n",
    "    \"\"\"\n",
    "    This function sets the DataFrame index to the specified datetime index.\n",
    "\n",
    "    :param df: Input DataFrame with the timestamp column\n",
    "    :param index_name: Name of the datetime index column (default: 'datetime')\n",
    "    :return: DataFrame with the new datetime index\n",
    "    \"\"\"\n",
    "\n",
    "    # Step 3: Inside the function, perform the operations on the input DataFrame\n",
    "    df[index_name] = df.apply(lambda r: np.float64(r.name).astype('datetime64[s]'), axis=1)\n",
    "    df.set_index(index_name, inplace=True)\n",
    "\n",
    "    # Step 4: Return the modified DataFrame\n",
    "    return df\n",
    "\n",
    "\"\"\" In this lambda function, `r.name` refers to the index of the row r being processed. `np.float64(r.name)` converts the index value to a `float64` data type.\n",
    "\n",
    "This is because,  when working with time-series data or data that involves calculations with decimal points, it may be necessary to use a float data type for the index to ensure precision in the calculations. In such cases, float64 data type may be preferred for its high precision and wider range of representable values compared to other floating-point data types.\n",
    "\n",
    "Then, the `astype()` method is called on the float64 value, with the argument 'datetime64[s]', which converts the float64 value to a datetime object with second-level precision.\n",
    "\n",
    "Finally, the lambda function returns the datetime object, which is assigned to the 'datetime' column of the DataFrame. \"\"\""
   ]
  },
  {
   "cell_type": "code",
   "execution_count": 128,
   "id": "46a1053d",
   "metadata": {},
   "outputs": [
    {
     "data": {
      "text/html": [
       "<div>\n",
       "<style scoped>\n",
       "    .dataframe tbody tr th:only-of-type {\n",
       "        vertical-align: middle;\n",
       "    }\n",
       "\n",
       "    .dataframe tbody tr th {\n",
       "        vertical-align: top;\n",
       "    }\n",
       "\n",
       "    .dataframe thead th {\n",
       "        text-align: right;\n",
       "    }\n",
       "</style>\n",
       "<table border=\"1\" class=\"dataframe\">\n",
       "  <thead>\n",
       "    <tr style=\"text-align: right;\">\n",
       "      <th></th>\n",
       "      <th>Asset_ID</th>\n",
       "      <th>Count</th>\n",
       "      <th>Open</th>\n",
       "      <th>High</th>\n",
       "      <th>Low</th>\n",
       "      <th>Close</th>\n",
       "      <th>Volume</th>\n",
       "      <th>VWAP</th>\n",
       "      <th>Target</th>\n",
       "    </tr>\n",
       "    <tr>\n",
       "      <th>datetime</th>\n",
       "      <th></th>\n",
       "      <th></th>\n",
       "      <th></th>\n",
       "      <th></th>\n",
       "      <th></th>\n",
       "      <th></th>\n",
       "      <th></th>\n",
       "      <th></th>\n",
       "      <th></th>\n",
       "    </tr>\n",
       "  </thead>\n",
       "  <tbody>\n",
       "    <tr>\n",
       "      <th>2018-01-01 00:01:00</th>\n",
       "      <td>1</td>\n",
       "      <td>229.0</td>\n",
       "      <td>13832.0</td>\n",
       "      <td>14016.0</td>\n",
       "      <td>13664.0</td>\n",
       "      <td>13848.0</td>\n",
       "      <td>31.550062</td>\n",
       "      <td>13827.062093</td>\n",
       "      <td>-0.014641</td>\n",
       "    </tr>\n",
       "    <tr>\n",
       "      <th>2018-01-01 00:02:00</th>\n",
       "      <td>1</td>\n",
       "      <td>235.0</td>\n",
       "      <td>13832.0</td>\n",
       "      <td>14056.0</td>\n",
       "      <td>13680.0</td>\n",
       "      <td>13832.0</td>\n",
       "      <td>31.046432</td>\n",
       "      <td>13840.362591</td>\n",
       "      <td>-0.015038</td>\n",
       "    </tr>\n",
       "    <tr>\n",
       "      <th>2018-01-01 00:03:00</th>\n",
       "      <td>1</td>\n",
       "      <td>528.0</td>\n",
       "      <td>13824.0</td>\n",
       "      <td>14000.0</td>\n",
       "      <td>13600.0</td>\n",
       "      <td>13800.0</td>\n",
       "      <td>55.061821</td>\n",
       "      <td>13806.068014</td>\n",
       "      <td>-0.010307</td>\n",
       "    </tr>\n",
       "  </tbody>\n",
       "</table>\n",
       "</div>"
      ],
      "text/plain": [
       "                     Asset_ID  Count     Open     High      Low    Close   \n",
       "datetime                                                                   \n",
       "2018-01-01 00:01:00         1  229.0  13832.0  14016.0  13664.0  13848.0  \\\n",
       "2018-01-01 00:02:00         1  235.0  13832.0  14056.0  13680.0  13832.0   \n",
       "2018-01-01 00:03:00         1  528.0  13824.0  14000.0  13600.0  13800.0   \n",
       "\n",
       "                        Volume          VWAP    Target  \n",
       "datetime                                                \n",
       "2018-01-01 00:01:00  31.550062  13827.062093 -0.014641  \n",
       "2018-01-01 00:02:00  31.046432  13840.362591 -0.015038  \n",
       "2018-01-01 00:03:00  55.061821  13806.068014 -0.010307  "
      ]
     },
     "execution_count": 128,
     "metadata": {},
     "output_type": "execute_result"
    }
   ],
   "source": [
    "btc_df = set_datetime_index(btc_df)\n",
    "btc_df.head(3)"
   ]
  },
  {
   "attachments": {},
   "cell_type": "markdown",
   "id": "f2ee4362",
   "metadata": {
    "papermill": {
     "duration": 0.127159,
     "end_time": "2022-01-27T14:51:03.570700",
     "exception": false,
     "start_time": "2022-01-27T14:51:03.443541",
     "status": "completed"
    },
    "tags": []
   },
   "source": [
    "# Feature engineering\n",
    "\n",
    "\n",
    "A. Transform the timestamp into day, hour, min, creating 3 new features\n",
    "\n",
    "B. Build Lag Features of - Price(t-2), Price(t-1), Price(t), Price(t+1)\n",
    "\n",
    "C. Create Window features of Mean, Max, Min using the expanding() method in Pandas"
   ]
  },
  {
   "attachments": {},
   "cell_type": "markdown",
   "id": "f5d50d48",
   "metadata": {
    "papermill": {
     "duration": 0.120466,
     "end_time": "2022-01-27T14:51:04.818816",
     "exception": false,
     "start_time": "2022-01-27T14:51:04.698350",
     "status": "completed"
    },
    "tags": []
   },
   "source": [
    "## Transform the timestamp into day, hour, min, creating 3 new features\n",
    "\n",
    " (1st Feature engineering for this exercise)"
   ]
  },
  {
   "cell_type": "code",
   "execution_count": 129,
   "id": "7817f7a0",
   "metadata": {},
   "outputs": [
    {
     "data": {
      "text/plain": [
       "1576800"
      ]
     },
     "execution_count": 129,
     "metadata": {},
     "output_type": "execute_result"
    }
   ],
   "source": [
    "24*60*3*365 # Number of minutes in 3 Years"
   ]
  },
  {
   "cell_type": "code",
   "execution_count": 130,
   "id": "b03714d2",
   "metadata": {},
   "outputs": [
    {
     "data": {
      "text/plain": [
       "7200"
      ]
     },
     "execution_count": 130,
     "metadata": {},
     "output_type": "execute_result"
    }
   ],
   "source": [
    "24*60*5"
   ]
  },
  {
   "cell_type": "code",
   "execution_count": 131,
   "id": "4327c015",
   "metadata": {
    "execution": {
     "iopub.execute_input": "2022-01-27T14:51:05.062121Z",
     "iopub.status.busy": "2022-01-27T14:51:05.061438Z",
     "iopub.status.idle": "2022-01-27T14:51:05.066083Z",
     "shell.execute_reply": "2022-01-27T14:51:05.066618Z",
     "shell.execute_reply.started": "2022-01-24T21:20:52.697914Z"
    },
    "papermill": {
     "duration": 0.127951,
     "end_time": "2022-01-27T14:51:05.066795",
     "exception": false,
     "start_time": "2022-01-27T14:51:04.938844",
     "status": "completed"
    },
    "tags": []
   },
   "outputs": [],
   "source": [
    "# btc_shorter_df_for_training = btc_df[-7200:].copy(deep=True)  # 5 Days\n",
    "btc_shorter_df_for_training = btc_df[-1576800:].copy(deep=True)  # For 3 Years\n"
   ]
  },
  {
   "cell_type": "code",
   "execution_count": 132,
   "id": "8e3bfa27",
   "metadata": {
    "execution": {
     "iopub.execute_input": "2022-01-27T14:51:05.309043Z",
     "iopub.status.busy": "2022-01-27T14:51:05.308369Z",
     "iopub.status.idle": "2022-01-27T14:51:05.322421Z",
     "shell.execute_reply": "2022-01-27T14:51:05.322922Z",
     "shell.execute_reply.started": "2022-01-24T21:20:52.711118Z"
    },
    "papermill": {
     "duration": 0.136057,
     "end_time": "2022-01-27T14:51:05.323098",
     "exception": false,
     "start_time": "2022-01-27T14:51:05.187041",
     "status": "completed"
    },
    "tags": []
   },
   "outputs": [
    {
     "data": {
      "text/html": [
       "<div>\n",
       "<style scoped>\n",
       "    .dataframe tbody tr th:only-of-type {\n",
       "        vertical-align: middle;\n",
       "    }\n",
       "\n",
       "    .dataframe tbody tr th {\n",
       "        vertical-align: top;\n",
       "    }\n",
       "\n",
       "    .dataframe thead th {\n",
       "        text-align: right;\n",
       "    }\n",
       "</style>\n",
       "<table border=\"1\" class=\"dataframe\">\n",
       "  <thead>\n",
       "    <tr style=\"text-align: right;\">\n",
       "      <th></th>\n",
       "      <th>Asset_ID</th>\n",
       "      <th>Count</th>\n",
       "      <th>Open</th>\n",
       "      <th>High</th>\n",
       "      <th>Low</th>\n",
       "      <th>Close</th>\n",
       "      <th>Volume</th>\n",
       "      <th>VWAP</th>\n",
       "      <th>Target</th>\n",
       "    </tr>\n",
       "    <tr>\n",
       "      <th>datetime</th>\n",
       "      <th></th>\n",
       "      <th></th>\n",
       "      <th></th>\n",
       "      <th></th>\n",
       "      <th></th>\n",
       "      <th></th>\n",
       "      <th></th>\n",
       "      <th></th>\n",
       "      <th></th>\n",
       "    </tr>\n",
       "  </thead>\n",
       "  <tbody>\n",
       "    <tr>\n",
       "      <th>2021-09-16 00:00:00</th>\n",
       "      <td>1</td>\n",
       "      <td>2466.0</td>\n",
       "      <td>48128.0</td>\n",
       "      <td>48192.0</td>\n",
       "      <td>48096.0</td>\n",
       "      <td>48096.0</td>\n",
       "      <td>100.182816</td>\n",
       "      <td>48132.845372</td>\n",
       "      <td>0.001079</td>\n",
       "    </tr>\n",
       "    <tr>\n",
       "      <th>2021-09-16 00:01:00</th>\n",
       "      <td>1</td>\n",
       "      <td>1757.0</td>\n",
       "      <td>48096.0</td>\n",
       "      <td>48160.0</td>\n",
       "      <td>48064.0</td>\n",
       "      <td>48128.0</td>\n",
       "      <td>64.948784</td>\n",
       "      <td>48112.135086</td>\n",
       "      <td>0.001212</td>\n",
       "    </tr>\n",
       "  </tbody>\n",
       "</table>\n",
       "</div>"
      ],
      "text/plain": [
       "                     Asset_ID   Count     Open     High      Low    Close   \n",
       "datetime                                                                    \n",
       "2021-09-16 00:00:00         1  2466.0  48128.0  48192.0  48096.0  48096.0  \\\n",
       "2021-09-16 00:01:00         1  1757.0  48096.0  48160.0  48064.0  48128.0   \n",
       "\n",
       "                         Volume          VWAP    Target  \n",
       "datetime                                                 \n",
       "2021-09-16 00:00:00  100.182816  48132.845372  0.001079  \n",
       "2021-09-16 00:01:00   64.948784  48112.135086  0.001212  "
      ]
     },
     "execution_count": 132,
     "metadata": {},
     "output_type": "execute_result"
    }
   ],
   "source": [
    "btc_shorter_df_for_training.head(2)"
   ]
  },
  {
   "cell_type": "code",
   "execution_count": 133,
   "id": "893760b9",
   "metadata": {
    "execution": {
     "iopub.execute_input": "2022-01-27T14:51:05.792371Z",
     "iopub.status.busy": "2022-01-27T14:51:05.564647Z",
     "iopub.status.idle": "2022-01-27T14:51:10.728592Z",
     "shell.execute_reply": "2022-01-27T14:51:10.729205Z",
     "shell.execute_reply.started": "2022-01-24T21:20:52.739944Z"
    },
    "papermill": {
     "duration": 5.286708,
     "end_time": "2022-01-27T14:51:10.729399",
     "exception": false,
     "start_time": "2022-01-27T14:51:05.442691",
     "status": "completed"
    },
    "tags": []
   },
   "outputs": [],
   "source": [
    "btc_shorter_df_for_training['time'] = btc_shorter_df_for_training.apply(lambda r:r.name, axis=1) # move timestamp back into a column\n",
    "\n",
    "# and parse it into year, month, day and hour\n",
    "btc_shorter_df_for_training['year'] = [btc_shorter_df_for_training.iloc[i].time.year for i in range(len(btc_shorter_df_for_training))]  \n",
    "btc_shorter_df_for_training['month'] = [btc_shorter_df_for_training.iloc[i].time.month for i in range(len(btc_shorter_df_for_training))]\n",
    "btc_shorter_df_for_training['day'] = [btc_shorter_df_for_training.iloc[i].time.day for i in range(len(btc_shorter_df_for_training))]\n",
    "btc_shorter_df_for_training['hour'] = [btc_shorter_df_for_training.iloc[i].time.hour for i in range(len(btc_shorter_df_for_training))]"
   ]
  },
  {
   "cell_type": "code",
   "execution_count": 134,
   "id": "21cc8a4f",
   "metadata": {
    "execution": {
     "iopub.execute_input": "2022-01-27T14:51:11.076539Z",
     "iopub.status.busy": "2022-01-27T14:51:11.075812Z",
     "iopub.status.idle": "2022-01-27T14:51:11.094972Z",
     "shell.execute_reply": "2022-01-27T14:51:11.094334Z",
     "shell.execute_reply.started": "2022-01-24T21:20:57.897004Z"
    },
    "papermill": {
     "duration": 0.143026,
     "end_time": "2022-01-27T14:51:11.095114",
     "exception": false,
     "start_time": "2022-01-27T14:51:10.952088",
     "status": "completed"
    },
    "tags": []
   },
   "outputs": [
    {
     "data": {
      "text/html": [
       "<div>\n",
       "<style scoped>\n",
       "    .dataframe tbody tr th:only-of-type {\n",
       "        vertical-align: middle;\n",
       "    }\n",
       "\n",
       "    .dataframe tbody tr th {\n",
       "        vertical-align: top;\n",
       "    }\n",
       "\n",
       "    .dataframe thead th {\n",
       "        text-align: right;\n",
       "    }\n",
       "</style>\n",
       "<table border=\"1\" class=\"dataframe\">\n",
       "  <thead>\n",
       "    <tr style=\"text-align: right;\">\n",
       "      <th></th>\n",
       "      <th>Asset_ID</th>\n",
       "      <th>Count</th>\n",
       "      <th>Open</th>\n",
       "      <th>High</th>\n",
       "      <th>Low</th>\n",
       "      <th>Close</th>\n",
       "      <th>Volume</th>\n",
       "      <th>VWAP</th>\n",
       "      <th>Target</th>\n",
       "      <th>time</th>\n",
       "      <th>year</th>\n",
       "      <th>month</th>\n",
       "      <th>day</th>\n",
       "      <th>hour</th>\n",
       "    </tr>\n",
       "    <tr>\n",
       "      <th>datetime</th>\n",
       "      <th></th>\n",
       "      <th></th>\n",
       "      <th></th>\n",
       "      <th></th>\n",
       "      <th></th>\n",
       "      <th></th>\n",
       "      <th></th>\n",
       "      <th></th>\n",
       "      <th></th>\n",
       "      <th></th>\n",
       "      <th></th>\n",
       "      <th></th>\n",
       "      <th></th>\n",
       "      <th></th>\n",
       "    </tr>\n",
       "  </thead>\n",
       "  <tbody>\n",
       "    <tr>\n",
       "      <th>2021-09-16 00:00:00</th>\n",
       "      <td>1</td>\n",
       "      <td>2466.0</td>\n",
       "      <td>48128.0</td>\n",
       "      <td>48192.0</td>\n",
       "      <td>48096.0</td>\n",
       "      <td>48096.0</td>\n",
       "      <td>100.182816</td>\n",
       "      <td>48132.845372</td>\n",
       "      <td>0.001079</td>\n",
       "      <td>2021-09-16 00:00:00</td>\n",
       "      <td>2021</td>\n",
       "      <td>9</td>\n",
       "      <td>16</td>\n",
       "      <td>0</td>\n",
       "    </tr>\n",
       "    <tr>\n",
       "      <th>2021-09-16 00:01:00</th>\n",
       "      <td>1</td>\n",
       "      <td>1757.0</td>\n",
       "      <td>48096.0</td>\n",
       "      <td>48160.0</td>\n",
       "      <td>48064.0</td>\n",
       "      <td>48128.0</td>\n",
       "      <td>64.948784</td>\n",
       "      <td>48112.135086</td>\n",
       "      <td>0.001212</td>\n",
       "      <td>2021-09-16 00:01:00</td>\n",
       "      <td>2021</td>\n",
       "      <td>9</td>\n",
       "      <td>16</td>\n",
       "      <td>0</td>\n",
       "    </tr>\n",
       "    <tr>\n",
       "      <th>2021-09-16 00:02:00</th>\n",
       "      <td>1</td>\n",
       "      <td>2331.0</td>\n",
       "      <td>48128.0</td>\n",
       "      <td>48224.0</td>\n",
       "      <td>48064.0</td>\n",
       "      <td>48192.0</td>\n",
       "      <td>101.655800</td>\n",
       "      <td>48125.096256</td>\n",
       "      <td>0.001464</td>\n",
       "      <td>2021-09-16 00:02:00</td>\n",
       "      <td>2021</td>\n",
       "      <td>9</td>\n",
       "      <td>16</td>\n",
       "      <td>0</td>\n",
       "    </tr>\n",
       "  </tbody>\n",
       "</table>\n",
       "</div>"
      ],
      "text/plain": [
       "                     Asset_ID   Count     Open     High      Low    Close   \n",
       "datetime                                                                    \n",
       "2021-09-16 00:00:00         1  2466.0  48128.0  48192.0  48096.0  48096.0  \\\n",
       "2021-09-16 00:01:00         1  1757.0  48096.0  48160.0  48064.0  48128.0   \n",
       "2021-09-16 00:02:00         1  2331.0  48128.0  48224.0  48064.0  48192.0   \n",
       "\n",
       "                         Volume          VWAP    Target                time   \n",
       "datetime                                                                      \n",
       "2021-09-16 00:00:00  100.182816  48132.845372  0.001079 2021-09-16 00:00:00  \\\n",
       "2021-09-16 00:01:00   64.948784  48112.135086  0.001212 2021-09-16 00:01:00   \n",
       "2021-09-16 00:02:00  101.655800  48125.096256  0.001464 2021-09-16 00:02:00   \n",
       "\n",
       "                     year  month  day  hour  \n",
       "datetime                                     \n",
       "2021-09-16 00:00:00  2021      9   16     0  \n",
       "2021-09-16 00:01:00  2021      9   16     0  \n",
       "2021-09-16 00:02:00  2021      9   16     0  "
      ]
     },
     "execution_count": 134,
     "metadata": {},
     "output_type": "execute_result"
    }
   ],
   "source": [
    "btc_shorter_df_for_training.head(3)"
   ]
  },
  {
   "attachments": {},
   "cell_type": "markdown",
   "id": "879108c0",
   "metadata": {
    "papermill": {
     "duration": 0.122539,
     "end_time": "2022-01-27T14:51:12.122173",
     "exception": false,
     "start_time": "2022-01-27T14:51:11.999634",
     "status": "completed"
    },
    "tags": []
   },
   "source": [
    "## Lag features (2nd Feature engineering for this exercise)\n",
    "\n",
    "The idea is to predict the value at the current timestamp based on the value from the previous timestamp(s).   \n",
    "\n",
    "- the number of previous time steps we use in our prediction is called the **width of the time window** or **the lag**\n",
    "- if we predict only one future time step we are doing **one-step forecast**. We can also perform **multi-step forecast** and predict multiple next steps at once \n",
    "- this method is also called **sliding window**, with a window width of 1 in our case below.\n",
    "\n",
    "Initial dataset:  \n",
    "\n",
    "| time | value |  \n",
    "| --- | ---|   \n",
    "| t1 | v1  \n",
    "| t2 | v2  \n",
    "| t3 | v3\n",
    "\n",
    "becomes:    \n",
    "\n",
    "| x | y | \n",
    "| --- | --- |     \n",
    "| ? | v1      \n",
    "| v1 | v2  \n",
    "| v2 | v3  \n",
    "\n",
    "The actual value for timestamp is gone from our data. We don't care about it, as long as we preserve the order. We only care about the actual value at the previous point in time.\n",
    "\n",
    "We use pandas' dataframe.shift() function, which shifts values vertically or horizontally, fills in with NaN values and leaves the index as it is."
   ]
  },
  {
   "cell_type": "code",
   "execution_count": 137,
   "id": "52897ccc",
   "metadata": {
    "execution": {
     "iopub.execute_input": "2022-01-27T14:51:12.369845Z",
     "iopub.status.busy": "2022-01-27T14:51:12.369210Z",
     "iopub.status.idle": "2022-01-27T14:51:12.382616Z",
     "shell.execute_reply": "2022-01-27T14:51:12.383331Z",
     "shell.execute_reply.started": "2022-01-24T21:20:57.955474Z"
    },
    "papermill": {
     "duration": 0.139608,
     "end_time": "2022-01-27T14:51:12.383515",
     "exception": false,
     "start_time": "2022-01-27T14:51:12.243907",
     "status": "completed"
    },
    "tags": []
   },
   "outputs": [
    {
     "data": {
      "text/html": [
       "<div>\n",
       "<style scoped>\n",
       "    .dataframe tbody tr th:only-of-type {\n",
       "        vertical-align: middle;\n",
       "    }\n",
       "\n",
       "    .dataframe tbody tr th {\n",
       "        vertical-align: top;\n",
       "    }\n",
       "\n",
       "    .dataframe thead th {\n",
       "        text-align: right;\n",
       "    }\n",
       "</style>\n",
       "<table border=\"1\" class=\"dataframe\">\n",
       "  <thead>\n",
       "    <tr style=\"text-align: right;\">\n",
       "      <th></th>\n",
       "      <th>Close(t)</th>\n",
       "      <th>Close(t+1)</th>\n",
       "    </tr>\n",
       "    <tr>\n",
       "      <th>datetime</th>\n",
       "      <th></th>\n",
       "      <th></th>\n",
       "    </tr>\n",
       "  </thead>\n",
       "  <tbody>\n",
       "    <tr>\n",
       "      <th>2021-09-16 00:00:00</th>\n",
       "      <td>NaN</td>\n",
       "      <td>48096.0</td>\n",
       "    </tr>\n",
       "    <tr>\n",
       "      <th>2021-09-16 00:01:00</th>\n",
       "      <td>48096.0</td>\n",
       "      <td>48128.0</td>\n",
       "    </tr>\n",
       "    <tr>\n",
       "      <th>2021-09-16 00:02:00</th>\n",
       "      <td>48128.0</td>\n",
       "      <td>48192.0</td>\n",
       "    </tr>\n",
       "    <tr>\n",
       "      <th>2021-09-16 00:03:00</th>\n",
       "      <td>48192.0</td>\n",
       "      <td>48160.0</td>\n",
       "    </tr>\n",
       "    <tr>\n",
       "      <th>2021-09-16 00:04:00</th>\n",
       "      <td>48160.0</td>\n",
       "      <td>48096.0</td>\n",
       "    </tr>\n",
       "  </tbody>\n",
       "</table>\n",
       "</div>"
      ],
      "text/plain": [
       "                     Close(t)  Close(t+1)\n",
       "datetime                                 \n",
       "2021-09-16 00:00:00       NaN     48096.0\n",
       "2021-09-16 00:01:00   48096.0     48128.0\n",
       "2021-09-16 00:02:00   48128.0     48192.0\n",
       "2021-09-16 00:03:00   48192.0     48160.0\n",
       "2021-09-16 00:04:00   48160.0     48096.0"
      ]
     },
     "execution_count": 137,
     "metadata": {},
     "output_type": "execute_result"
    }
   ],
   "source": [
    "tmp = btc_shorter_df_for_training['Close']\n",
    "\n",
    "lag_df = pd.concat([tmp.shift(1, axis = 0), tmp], axis=1) # downward shift by 1 step \n",
    "\n",
    "\n",
    "# the original price series becomes the time t+1 value, \n",
    "# while the downward shifted series is time t\n",
    "lag_df.columns = ['Close(t)', 'Close(t+1)'] \n",
    "\n",
    "lag_df.head()"
   ]
  },
  {
   "attachments": {},
   "cell_type": "markdown",
   "id": "356cf2cf",
   "metadata": {
    "papermill": {
     "duration": 0.124758,
     "end_time": "2022-01-27T14:51:12.631678",
     "exception": false,
     "start_time": "2022-01-27T14:51:12.506920",
     "status": "completed"
    },
    "tags": []
   },
   "source": [
    "tmp.shift(1, axis=0) is used to create a new DataFrame that is shifted by one time step (or one row) along the time axis (axis=0). This operation effectively moves each row's data one step forward, leaving a NaN value in the first row of the DataFrame. This new DataFrame has the same column names as the original tmp DataFrame.\n",
    "\n",
    "pd.concat([tmp.shift(1, axis=0), tmp], axis=1) concatenates the shifted DataFrame from step 2 and the original tmp DataFrame along the columns axis (axis=1). This operation results in a new DataFrame called lag_df with twice the number of columns as the original tmp DataFrame.\n",
    "\n",
    "-----------------------------------"
   ]
  },
  {
   "attachments": {},
   "cell_type": "markdown",
   "id": "e2d1d9f1",
   "metadata": {},
   "source": [
    "### Lag Features (The same transformation as above, but this time we include the 3 previous values, for each future time t+1:)"
   ]
  },
  {
   "cell_type": "code",
   "execution_count": 139,
   "id": "a66f789b",
   "metadata": {},
   "outputs": [
    {
     "data": {
      "text/html": [
       "<div>\n",
       "<style scoped>\n",
       "    .dataframe tbody tr th:only-of-type {\n",
       "        vertical-align: middle;\n",
       "    }\n",
       "\n",
       "    .dataframe tbody tr th {\n",
       "        vertical-align: top;\n",
       "    }\n",
       "\n",
       "    .dataframe thead th {\n",
       "        text-align: right;\n",
       "    }\n",
       "</style>\n",
       "<table border=\"1\" class=\"dataframe\">\n",
       "  <thead>\n",
       "    <tr style=\"text-align: right;\">\n",
       "      <th></th>\n",
       "      <th>Close</th>\n",
       "      <th>Close</th>\n",
       "      <th>Close</th>\n",
       "      <th>Close</th>\n",
       "    </tr>\n",
       "    <tr>\n",
       "      <th>datetime</th>\n",
       "      <th></th>\n",
       "      <th></th>\n",
       "      <th></th>\n",
       "      <th></th>\n",
       "    </tr>\n",
       "  </thead>\n",
       "  <tbody>\n",
       "    <tr>\n",
       "      <th>2021-09-16 00:00:00</th>\n",
       "      <td>NaN</td>\n",
       "      <td>NaN</td>\n",
       "      <td>NaN</td>\n",
       "      <td>48096.0</td>\n",
       "    </tr>\n",
       "    <tr>\n",
       "      <th>2021-09-16 00:01:00</th>\n",
       "      <td>NaN</td>\n",
       "      <td>NaN</td>\n",
       "      <td>48096.0</td>\n",
       "      <td>48128.0</td>\n",
       "    </tr>\n",
       "    <tr>\n",
       "      <th>2021-09-16 00:02:00</th>\n",
       "      <td>NaN</td>\n",
       "      <td>48096.0</td>\n",
       "      <td>48128.0</td>\n",
       "      <td>48192.0</td>\n",
       "    </tr>\n",
       "    <tr>\n",
       "      <th>2021-09-16 00:03:00</th>\n",
       "      <td>48096.0</td>\n",
       "      <td>48128.0</td>\n",
       "      <td>48192.0</td>\n",
       "      <td>48160.0</td>\n",
       "    </tr>\n",
       "    <tr>\n",
       "      <th>2021-09-16 00:04:00</th>\n",
       "      <td>48128.0</td>\n",
       "      <td>48192.0</td>\n",
       "      <td>48160.0</td>\n",
       "      <td>48096.0</td>\n",
       "    </tr>\n",
       "  </tbody>\n",
       "</table>\n",
       "</div>"
      ],
      "text/plain": [
       "                       Close    Close    Close    Close\n",
       "datetime                                               \n",
       "2021-09-16 00:00:00      NaN      NaN      NaN  48096.0\n",
       "2021-09-16 00:01:00      NaN      NaN  48096.0  48128.0\n",
       "2021-09-16 00:02:00      NaN  48096.0  48128.0  48192.0\n",
       "2021-09-16 00:03:00  48096.0  48128.0  48192.0  48160.0\n",
       "2021-09-16 00:04:00  48128.0  48192.0  48160.0  48096.0"
      ]
     },
     "execution_count": 139,
     "metadata": {},
     "output_type": "execute_result"
    }
   ],
   "source": [
    "tmp = btc_shorter_df_for_training['Close']\n",
    "lag_df = create_lagged_dataframe(tmp, lag_values=[3, 2, 1] )\n",
    "lag_df.head()\n"
   ]
  },
  {
   "attachments": {},
   "cell_type": "markdown",
   "id": "041f3a9d",
   "metadata": {
    "papermill": {
     "duration": 0.123829,
     "end_time": "2022-01-27T14:51:13.146040",
     "exception": false,
     "start_time": "2022-01-27T14:51:13.022211",
     "status": "completed"
    },
    "tags": []
   },
   "source": [
    "Finally, the lag does not have to be linear: we don't necessarily have to use the previous k values. We can include in the lag window values from the same day last week or the same hour the day before etc. "
   ]
  },
  {
   "attachments": {},
   "cell_type": "markdown",
   "id": "87264d40",
   "metadata": {
    "papermill": {
     "duration": 0.124408,
     "end_time": "2022-01-27T14:51:13.392836",
     "exception": false,
     "start_time": "2022-01-27T14:51:13.268428",
     "status": "completed"
    },
    "tags": []
   },
   "source": [
    "## Window features   (3rd Feature engineering for this exercise)\n",
    "\n",
    "We saw how we can add a window of a certain width as features to be used by our model to forecast the value at future time t+1.  \n",
    "\n",
    "Besides using the raw values from the time window (i.e. Close(t-1), Close(t), etc), we can also compute *summary statistics* of these values and use them as features for prediction.  \n",
    "\n",
    "The most common aggregate value is the mean of the lag window (also called **moving average** or **rolling mean**).\n",
    "\n",
    "| time | value |  \n",
    "| --- | --- |  \n",
    "| t1 | v1  \n",
    "| t2 | v2  \n",
    "| t3 | v3  \n",
    "| t4 | v4\n",
    "\n",
    "**shifted**  \n",
    "\n",
    "| time | value | \n",
    "| --- | --- |  \n",
    "| t1 | ?  \n",
    "| t2 | v1  \n",
    "| t3 | v2  \n",
    "| t4 | v3\n",
    "\n",
    "## shifted + applying **rolling mean** (aka moving average ) with a window size of 2  \n",
    "\n",
    "| time | value | \n",
    "| --- | --- |  \n",
    "| t1 | ? |  \n",
    "| t2 | ? | \n",
    "| t3 | (v1+v2) / 2 | \n",
    "| t4 | (v2+v3) / 2 |\n",
    "\n",
    "Final dataset\n",
    "\n",
    "| time | mean | Close(t+1) |  \n",
    "| --- | --- | --- |   \n",
    "t1&emsp;$\\;$|  ?  |  v1  |  \n",
    "t2&emsp;$\\;$|  ?  |  v2  |  \n",
    "t3&emsp;$\\;$|  (v1+v2) / 2  |  v3  |  \n",
    "t4&emsp;$\\;$|  (v2+v3) / 2  |  v4  |  \n",
    "\n",
    "The moving average can be used as a naive prediction model: predict for next day the average of the last *w* days (where *w* is the width of the moving average window). \n",
    "\n",
    "---------------------\n",
    "\n",
    "### While a moving average can be applied to both stationary and non-stationary time series data, the insights derived from non-stationary data might be less reliable. It is generally preferable to make the time series stationary before applying a moving average to ensure meaningful results.\n",
    "\n",
    "The reason Moving Average requires stationary time series data is because the technique assumes that the statistical properties of the data are constant over time. If the data is not stationary, then the mean, variance, and covariance of the data will change over time, and this will result in inaccurate trend identification.\n",
    "\n",
    " so we'll need some further preprocessing down the road. "
   ]
  },
  {
   "cell_type": "code",
   "execution_count": 140,
   "id": "7fca08fc",
   "metadata": {
    "execution": {
     "iopub.execute_input": "2022-01-27T14:51:13.642603Z",
     "iopub.status.busy": "2022-01-27T14:51:13.641909Z",
     "iopub.status.idle": "2022-01-27T14:51:13.658722Z",
     "shell.execute_reply": "2022-01-27T14:51:13.659376Z",
     "shell.execute_reply.started": "2022-01-24T21:20:57.994159Z"
    },
    "papermill": {
     "duration": 0.143979,
     "end_time": "2022-01-27T14:51:13.659561",
     "exception": false,
     "start_time": "2022-01-27T14:51:13.515582",
     "status": "completed"
    },
    "tags": []
   },
   "outputs": [
    {
     "data": {
      "text/html": [
       "<div>\n",
       "<style scoped>\n",
       "    .dataframe tbody tr th:only-of-type {\n",
       "        vertical-align: middle;\n",
       "    }\n",
       "\n",
       "    .dataframe tbody tr th {\n",
       "        vertical-align: top;\n",
       "    }\n",
       "\n",
       "    .dataframe thead th {\n",
       "        text-align: right;\n",
       "    }\n",
       "</style>\n",
       "<table border=\"1\" class=\"dataframe\">\n",
       "  <thead>\n",
       "    <tr style=\"text-align: right;\">\n",
       "      <th></th>\n",
       "      <th>mean(t-1,t)</th>\n",
       "      <th>t+1</th>\n",
       "    </tr>\n",
       "    <tr>\n",
       "      <th>datetime</th>\n",
       "      <th></th>\n",
       "      <th></th>\n",
       "    </tr>\n",
       "  </thead>\n",
       "  <tbody>\n",
       "    <tr>\n",
       "      <th>2021-09-16 00:00:00</th>\n",
       "      <td>NaN</td>\n",
       "      <td>48096.0</td>\n",
       "    </tr>\n",
       "    <tr>\n",
       "      <th>2021-09-16 00:01:00</th>\n",
       "      <td>NaN</td>\n",
       "      <td>48128.0</td>\n",
       "    </tr>\n",
       "    <tr>\n",
       "      <th>2021-09-16 00:02:00</th>\n",
       "      <td>48112.0</td>\n",
       "      <td>48192.0</td>\n",
       "    </tr>\n",
       "    <tr>\n",
       "      <th>2021-09-16 00:03:00</th>\n",
       "      <td>48160.0</td>\n",
       "      <td>48160.0</td>\n",
       "    </tr>\n",
       "    <tr>\n",
       "      <th>2021-09-16 00:04:00</th>\n",
       "      <td>48176.0</td>\n",
       "      <td>48096.0</td>\n",
       "    </tr>\n",
       "  </tbody>\n",
       "</table>\n",
       "</div>"
      ],
      "text/plain": [
       "                     mean(t-1,t)      t+1\n",
       "datetime                                 \n",
       "2021-09-16 00:00:00          NaN  48096.0\n",
       "2021-09-16 00:01:00          NaN  48128.0\n",
       "2021-09-16 00:02:00      48112.0  48192.0\n",
       "2021-09-16 00:03:00      48160.0  48160.0\n",
       "2021-09-16 00:04:00      48176.0  48096.0"
      ]
     },
     "execution_count": 140,
     "metadata": {},
     "output_type": "execute_result"
    }
   ],
   "source": [
    "tmp = btc_shorter_df_for_training['Close'] # extract only the Close price\n",
    "\n",
    "lag_df = tmp.shift(1) # downward shift by 1\n",
    "\n",
    "window = lag_df.rolling(window=2) # rolling window size of 2\n",
    "#  creates a rolling window object that contains a fixed-size sliding window of data points, which is centered around a specified point or a moving window that shifts over the data. The window function can be applied to a variety of statistical calculations, including moving averages, rolling standard deviation, and more complex functions.\n",
    "\n",
    "means = window.mean() # compute the means for the rolling windows\n",
    "\n",
    "modified_df = pd.concat([means, tmp], axis=1) # concatenate the two series vertically\n",
    "\n",
    "modified_df.columns = ['mean(t-1,t)', 't+1'] # rename columns for easier reading\n",
    "\n",
    "modified_df.head()"
   ]
  },
  {
   "attachments": {},
   "cell_type": "markdown",
   "id": "a6c7faf3",
   "metadata": {
    "papermill": {
     "duration": 0.122378,
     "end_time": "2022-01-27T14:51:13.907237",
     "exception": false,
     "start_time": "2022-01-27T14:51:13.784859",
     "status": "completed"
    },
    "tags": []
   },
   "source": [
    "There are of course many summary statistics we can use besides the average for the previous time window.    \n",
    "\n",
    "### Also, the window does not have to have a fixed width. It can also be a forever expanding window.  \n",
    "\n",
    "| time | value |\n",
    "| --- | --- | \n",
    "| t1 | 1 | \n",
    "| t2 | 2 | \n",
    "| t3 | 3 | \n",
    "| t4 | 4 | \n",
    "| t4 | 5 |\n",
    "\n",
    "**expanding** rolling window  \n",
    "\n",
    "| # |values |\n",
    "| --- | --- |\n",
    "| 0 | 1 2 |\n",
    "| 1 | 1 2 3 |\n",
    "| 2 | 1 2 3 4 |\n",
    "| 4 | 1 2 3 4 5 |\n",
    "\n",
    "final engineered dataset having summay statistics (min, mean and max window values) computed for the **expanding** rolling window\n",
    "\n",
    "| # | min | mean | max | t+1 |\n",
    "| --- | --- | --- | --- | --- |\n",
    "| 0 | 1 | 1 | 1 | 2 |\n",
    "| 1 | 1 | 1.5 | 2 | 3 |\n",
    "| 2 | 1 | 2 | 3 | 4 |\n",
    "| 3 | 1 | 2.5 | 4 | 5 |"
   ]
  },
  {
   "attachments": {},
   "cell_type": "markdown",
   "id": "b0a05862",
   "metadata": {},
   "source": [
    "---------------------\n",
    "\n",
    "## Expanding method in Pandas\n",
    "\n",
    "The series.expanding() method is one of the window methods of pandas and it Provides expanding transformations. It is used to perform cumulative computations on a time series or any other ordered data. The method calculates an expanding window of calculations over a DataFrame or a Series object.\n",
    "\n",
    "The expanding method can be applied to any aggregation function, such as mean(), sum(), min(), max(), std(), var(), and quantile(), among others. The expanding method calculates the specified aggregation function over an expanding window of data points, starting from the first data point and increasing the size of the window as it moves forward in time.\n",
    "\n",
    "And it returns a window subclassed for the particular operation.\n",
    "\n",
    "The parameters for this method are min_periods, center, axis, and method. The default value for the min_periods is 1 and it also takes an integer value. The center parameter takes a boolean value and the default one is False. In the same way, the default value for the axis parameter is 0, and for the method is ‘single’."
   ]
  },
  {
   "cell_type": "code",
   "execution_count": 141,
   "id": "c2b5ac74",
   "metadata": {
    "execution": {
     "iopub.execute_input": "2022-01-27T14:51:14.157532Z",
     "iopub.status.busy": "2022-01-27T14:51:14.156875Z",
     "iopub.status.idle": "2022-01-27T14:51:14.171588Z",
     "shell.execute_reply": "2022-01-27T14:51:14.172102Z",
     "shell.execute_reply.started": "2022-01-24T21:20:58.014269Z"
    },
    "papermill": {
     "duration": 0.14124,
     "end_time": "2022-01-27T14:51:14.172320",
     "exception": false,
     "start_time": "2022-01-27T14:51:14.031080",
     "status": "completed"
    },
    "tags": []
   },
   "outputs": [
    {
     "data": {
      "text/html": [
       "<div>\n",
       "<style scoped>\n",
       "    .dataframe tbody tr th:only-of-type {\n",
       "        vertical-align: middle;\n",
       "    }\n",
       "\n",
       "    .dataframe tbody tr th {\n",
       "        vertical-align: top;\n",
       "    }\n",
       "\n",
       "    .dataframe thead th {\n",
       "        text-align: right;\n",
       "    }\n",
       "</style>\n",
       "<table border=\"1\" class=\"dataframe\">\n",
       "  <thead>\n",
       "    <tr style=\"text-align: right;\">\n",
       "      <th></th>\n",
       "      <th>min</th>\n",
       "      <th>mean</th>\n",
       "      <th>max</th>\n",
       "      <th>t+1</th>\n",
       "    </tr>\n",
       "    <tr>\n",
       "      <th>datetime</th>\n",
       "      <th></th>\n",
       "      <th></th>\n",
       "      <th></th>\n",
       "      <th></th>\n",
       "    </tr>\n",
       "  </thead>\n",
       "  <tbody>\n",
       "    <tr>\n",
       "      <th>2021-09-16 00:00:00</th>\n",
       "      <td>48096.0</td>\n",
       "      <td>48096.000000</td>\n",
       "      <td>48096.0</td>\n",
       "      <td>48128.0</td>\n",
       "    </tr>\n",
       "    <tr>\n",
       "      <th>2021-09-16 00:01:00</th>\n",
       "      <td>48096.0</td>\n",
       "      <td>48112.000000</td>\n",
       "      <td>48128.0</td>\n",
       "      <td>48192.0</td>\n",
       "    </tr>\n",
       "    <tr>\n",
       "      <th>2021-09-16 00:02:00</th>\n",
       "      <td>48096.0</td>\n",
       "      <td>48138.666667</td>\n",
       "      <td>48192.0</td>\n",
       "      <td>48160.0</td>\n",
       "    </tr>\n",
       "    <tr>\n",
       "      <th>2021-09-16 00:03:00</th>\n",
       "      <td>48096.0</td>\n",
       "      <td>48144.000000</td>\n",
       "      <td>48192.0</td>\n",
       "      <td>48096.0</td>\n",
       "    </tr>\n",
       "    <tr>\n",
       "      <th>2021-09-16 00:04:00</th>\n",
       "      <td>48096.0</td>\n",
       "      <td>48134.400000</td>\n",
       "      <td>48192.0</td>\n",
       "      <td>48064.0</td>\n",
       "    </tr>\n",
       "  </tbody>\n",
       "</table>\n",
       "</div>"
      ],
      "text/plain": [
       "                         min          mean      max      t+1\n",
       "datetime                                                    \n",
       "2021-09-16 00:00:00  48096.0  48096.000000  48096.0  48128.0\n",
       "2021-09-16 00:01:00  48096.0  48112.000000  48128.0  48192.0\n",
       "2021-09-16 00:02:00  48096.0  48138.666667  48192.0  48160.0\n",
       "2021-09-16 00:03:00  48096.0  48144.000000  48192.0  48096.0\n",
       "2021-09-16 00:04:00  48096.0  48134.400000  48192.0  48064.0"
      ]
     },
     "execution_count": 141,
     "metadata": {},
     "output_type": "execute_result"
    }
   ],
   "source": [
    "window = tmp.expanding()\n",
    "\n",
    "dataframe = pd.concat([window.min(), window.mean(), window.max(), tmp.shift(-1)], axis=1)\n",
    "\n",
    "dataframe.columns = ['min', 'mean', 'max', 't+1']\n",
    "\n",
    "dataframe.head(5)"
   ]
  },
  {
   "cell_type": "code",
   "execution_count": 142,
   "id": "e2120307",
   "metadata": {},
   "outputs": [],
   "source": [
    "combined_btc_shorter_df_for_training = pd.concat([dataframe, btc_shorter_df_for_training ], axis=1)"
   ]
  },
  {
   "attachments": {},
   "cell_type": "markdown",
   "id": "a988f127",
   "metadata": {},
   "source": [
    "## Explanation of above 2 cells and the working of expanding() method here\n",
    "\n",
    "Expanding window: Unlike a rolling window with a fixed size, an expanding window starts with a minimum size (in this case, 1) and increases its size by one for each subsequent data point. So, for the first data point, the window size is 1, for the second data point, the window size is 2, and so on. The expanding window encompasses all previous data points, which results in the window size growing until it covers the entire dataset.\n",
    "\n",
    "Calculations: For each window size, the min(), mean(), and max() methods calculate the minimum, mean, and maximum values, respectively, within the expanding window. The results will be pandas Series or DataFrames with the same length as the original tmp object.\n",
    "\n",
    "You concatenate the results of the min, mean, and max calculations, along with the original data shifted by -1 (i.e., moving all values up by one position). The concatenation is performed along the columns\n",
    "\n",
    "##  why am I moving all values up by one position by the `tmp.shift(-1)`\n",
    "\n",
    "This is done to align the target variable 't+1' with the current row's features (min, mean, max) for predictive modeling. By shifting the data up, you are essentially trying to predict the next value in the sequence, given the current row's expanding window statistics."
   ]
  },
  {
   "cell_type": "code",
   "execution_count": 143,
   "id": "1295c048",
   "metadata": {},
   "outputs": [
    {
     "data": {
      "text/html": [
       "<div>\n",
       "<style scoped>\n",
       "    .dataframe tbody tr th:only-of-type {\n",
       "        vertical-align: middle;\n",
       "    }\n",
       "\n",
       "    .dataframe tbody tr th {\n",
       "        vertical-align: top;\n",
       "    }\n",
       "\n",
       "    .dataframe thead th {\n",
       "        text-align: right;\n",
       "    }\n",
       "</style>\n",
       "<table border=\"1\" class=\"dataframe\">\n",
       "  <thead>\n",
       "    <tr style=\"text-align: right;\">\n",
       "      <th></th>\n",
       "      <th>min</th>\n",
       "      <th>mean</th>\n",
       "      <th>max</th>\n",
       "      <th>t+1</th>\n",
       "      <th>Asset_ID</th>\n",
       "      <th>Count</th>\n",
       "      <th>Open</th>\n",
       "      <th>High</th>\n",
       "      <th>Low</th>\n",
       "      <th>Close</th>\n",
       "      <th>Volume</th>\n",
       "      <th>VWAP</th>\n",
       "      <th>Target</th>\n",
       "      <th>time</th>\n",
       "      <th>year</th>\n",
       "      <th>month</th>\n",
       "      <th>day</th>\n",
       "      <th>hour</th>\n",
       "    </tr>\n",
       "    <tr>\n",
       "      <th>datetime</th>\n",
       "      <th></th>\n",
       "      <th></th>\n",
       "      <th></th>\n",
       "      <th></th>\n",
       "      <th></th>\n",
       "      <th></th>\n",
       "      <th></th>\n",
       "      <th></th>\n",
       "      <th></th>\n",
       "      <th></th>\n",
       "      <th></th>\n",
       "      <th></th>\n",
       "      <th></th>\n",
       "      <th></th>\n",
       "      <th></th>\n",
       "      <th></th>\n",
       "      <th></th>\n",
       "      <th></th>\n",
       "    </tr>\n",
       "  </thead>\n",
       "  <tbody>\n",
       "    <tr>\n",
       "      <th>2021-09-16 00:00:00</th>\n",
       "      <td>48096.0</td>\n",
       "      <td>48096.000000</td>\n",
       "      <td>48096.0</td>\n",
       "      <td>48128.0</td>\n",
       "      <td>1</td>\n",
       "      <td>2466.0</td>\n",
       "      <td>48128.0</td>\n",
       "      <td>48192.0</td>\n",
       "      <td>48096.0</td>\n",
       "      <td>48096.0</td>\n",
       "      <td>100.182816</td>\n",
       "      <td>48132.845372</td>\n",
       "      <td>0.001079</td>\n",
       "      <td>2021-09-16 00:00:00</td>\n",
       "      <td>2021</td>\n",
       "      <td>9</td>\n",
       "      <td>16</td>\n",
       "      <td>0</td>\n",
       "    </tr>\n",
       "    <tr>\n",
       "      <th>2021-09-16 00:01:00</th>\n",
       "      <td>48096.0</td>\n",
       "      <td>48112.000000</td>\n",
       "      <td>48128.0</td>\n",
       "      <td>48192.0</td>\n",
       "      <td>1</td>\n",
       "      <td>1757.0</td>\n",
       "      <td>48096.0</td>\n",
       "      <td>48160.0</td>\n",
       "      <td>48064.0</td>\n",
       "      <td>48128.0</td>\n",
       "      <td>64.948784</td>\n",
       "      <td>48112.135086</td>\n",
       "      <td>0.001212</td>\n",
       "      <td>2021-09-16 00:01:00</td>\n",
       "      <td>2021</td>\n",
       "      <td>9</td>\n",
       "      <td>16</td>\n",
       "      <td>0</td>\n",
       "    </tr>\n",
       "    <tr>\n",
       "      <th>2021-09-16 00:02:00</th>\n",
       "      <td>48096.0</td>\n",
       "      <td>48138.666667</td>\n",
       "      <td>48192.0</td>\n",
       "      <td>48160.0</td>\n",
       "      <td>1</td>\n",
       "      <td>2331.0</td>\n",
       "      <td>48128.0</td>\n",
       "      <td>48224.0</td>\n",
       "      <td>48064.0</td>\n",
       "      <td>48192.0</td>\n",
       "      <td>101.655800</td>\n",
       "      <td>48125.096256</td>\n",
       "      <td>0.001464</td>\n",
       "      <td>2021-09-16 00:02:00</td>\n",
       "      <td>2021</td>\n",
       "      <td>9</td>\n",
       "      <td>16</td>\n",
       "      <td>0</td>\n",
       "    </tr>\n",
       "    <tr>\n",
       "      <th>2021-09-16 00:03:00</th>\n",
       "      <td>48096.0</td>\n",
       "      <td>48144.000000</td>\n",
       "      <td>48192.0</td>\n",
       "      <td>48096.0</td>\n",
       "      <td>1</td>\n",
       "      <td>2231.0</td>\n",
       "      <td>48192.0</td>\n",
       "      <td>48224.0</td>\n",
       "      <td>48128.0</td>\n",
       "      <td>48160.0</td>\n",
       "      <td>53.992481</td>\n",
       "      <td>48174.667732</td>\n",
       "      <td>0.001517</td>\n",
       "      <td>2021-09-16 00:03:00</td>\n",
       "      <td>2021</td>\n",
       "      <td>9</td>\n",
       "      <td>16</td>\n",
       "      <td>0</td>\n",
       "    </tr>\n",
       "    <tr>\n",
       "      <th>2021-09-16 00:04:00</th>\n",
       "      <td>48096.0</td>\n",
       "      <td>48134.400000</td>\n",
       "      <td>48192.0</td>\n",
       "      <td>48064.0</td>\n",
       "      <td>1</td>\n",
       "      <td>2241.0</td>\n",
       "      <td>48160.0</td>\n",
       "      <td>48192.0</td>\n",
       "      <td>48064.0</td>\n",
       "      <td>48096.0</td>\n",
       "      <td>65.479225</td>\n",
       "      <td>48122.721662</td>\n",
       "      <td>0.001424</td>\n",
       "      <td>2021-09-16 00:04:00</td>\n",
       "      <td>2021</td>\n",
       "      <td>9</td>\n",
       "      <td>16</td>\n",
       "      <td>0</td>\n",
       "    </tr>\n",
       "  </tbody>\n",
       "</table>\n",
       "</div>"
      ],
      "text/plain": [
       "                         min          mean      max      t+1  Asset_ID   \n",
       "datetime                                                                 \n",
       "2021-09-16 00:00:00  48096.0  48096.000000  48096.0  48128.0         1  \\\n",
       "2021-09-16 00:01:00  48096.0  48112.000000  48128.0  48192.0         1   \n",
       "2021-09-16 00:02:00  48096.0  48138.666667  48192.0  48160.0         1   \n",
       "2021-09-16 00:03:00  48096.0  48144.000000  48192.0  48096.0         1   \n",
       "2021-09-16 00:04:00  48096.0  48134.400000  48192.0  48064.0         1   \n",
       "\n",
       "                      Count     Open     High      Low    Close      Volume   \n",
       "datetime                                                                      \n",
       "2021-09-16 00:00:00  2466.0  48128.0  48192.0  48096.0  48096.0  100.182816  \\\n",
       "2021-09-16 00:01:00  1757.0  48096.0  48160.0  48064.0  48128.0   64.948784   \n",
       "2021-09-16 00:02:00  2331.0  48128.0  48224.0  48064.0  48192.0  101.655800   \n",
       "2021-09-16 00:03:00  2231.0  48192.0  48224.0  48128.0  48160.0   53.992481   \n",
       "2021-09-16 00:04:00  2241.0  48160.0  48192.0  48064.0  48096.0   65.479225   \n",
       "\n",
       "                             VWAP    Target                time  year  month   \n",
       "datetime                                                                       \n",
       "2021-09-16 00:00:00  48132.845372  0.001079 2021-09-16 00:00:00  2021      9  \\\n",
       "2021-09-16 00:01:00  48112.135086  0.001212 2021-09-16 00:01:00  2021      9   \n",
       "2021-09-16 00:02:00  48125.096256  0.001464 2021-09-16 00:02:00  2021      9   \n",
       "2021-09-16 00:03:00  48174.667732  0.001517 2021-09-16 00:03:00  2021      9   \n",
       "2021-09-16 00:04:00  48122.721662  0.001424 2021-09-16 00:04:00  2021      9   \n",
       "\n",
       "                     day  hour  \n",
       "datetime                        \n",
       "2021-09-16 00:00:00   16     0  \n",
       "2021-09-16 00:01:00   16     0  \n",
       "2021-09-16 00:02:00   16     0  \n",
       "2021-09-16 00:03:00   16     0  \n",
       "2021-09-16 00:04:00   16     0  "
      ]
     },
     "execution_count": 143,
     "metadata": {},
     "output_type": "execute_result"
    }
   ],
   "source": [
    "combined_btc_shorter_df_for_training.head()"
   ]
  },
  {
   "cell_type": "code",
   "execution_count": 144,
   "id": "032a4bed",
   "metadata": {
    "execution": {
     "iopub.execute_input": "2022-01-27T14:51:14.423845Z",
     "iopub.status.busy": "2022-01-27T14:51:14.423141Z",
     "iopub.status.idle": "2022-01-27T14:51:14.425729Z",
     "shell.execute_reply": "2022-01-27T14:51:14.426237Z",
     "shell.execute_reply.started": "2022-01-24T21:20:58.031253Z"
    },
    "papermill": {
     "duration": 0.131779,
     "end_time": "2022-01-27T14:51:14.426404",
     "exception": false,
     "start_time": "2022-01-27T14:51:14.294625",
     "status": "completed"
    },
    "tags": []
   },
   "outputs": [
    {
     "data": {
      "text/plain": [
       "datetime\n",
       "2021-09-16 00:00:00    48096.0\n",
       "2021-09-16 00:01:00    48128.0\n",
       "2021-09-16 00:02:00    48192.0\n",
       "Name: Close, dtype: float16"
      ]
     },
     "execution_count": 144,
     "metadata": {},
     "output_type": "execute_result"
    }
   ],
   "source": [
    "# have a look at the initial dataset again, to verify that tha dataframe above is correct\n",
    "tmp.head(3)"
   ]
  },
  {
   "attachments": {},
   "cell_type": "markdown",
   "id": "202f1a57",
   "metadata": {
    "papermill": {
     "duration": 0.125812,
     "end_time": "2022-01-27T14:51:15.944352",
     "exception": false,
     "start_time": "2022-01-27T14:51:15.818540",
     "status": "completed"
    },
    "tags": []
   },
   "source": [
    "### In conclusion, those 3 techniques are fundamental and widely used approaches to transform time series into a dataset suitable for the application of supervised machine learning techniques.\n",
    "\n",
    "---------------------------"
   ]
  },
  {
   "attachments": {},
   "cell_type": "markdown",
   "id": "8d84273f",
   "metadata": {},
   "source": [
    "# XGBOOST Data Preparation"
   ]
  },
  {
   "cell_type": "code",
   "execution_count": 151,
   "id": "ca3f9cbe",
   "metadata": {},
   "outputs": [],
   "source": [
    "TARGET_TEST_CUTOFF_DATE = '08-01-2021'\n",
    "\n",
    "\n",
    "train = combined_btc_shorter_df_for_training.loc[combined_btc_shorter_df_for_training.index < TARGET_TEST_CUTOFF_DATE]\n",
    "\n",
    "test = combined_btc_shorter_df_for_training.loc[combined_btc_shorter_df_for_training.index >= TARGET_TEST_CUTOFF_DATE]"
   ]
  },
  {
   "cell_type": "code",
   "execution_count": 152,
   "id": "dc98132e",
   "metadata": {},
   "outputs": [
    {
     "name": "stdout",
     "output_type": "stream",
     "text": [
      "(5760, 18)\n",
      "(1441, 18)\n"
     ]
    }
   ],
   "source": [
    "print(train.shape)\n",
    "print(test.shape)"
   ]
  },
  {
   "cell_type": "code",
   "execution_count": 153,
   "id": "33671ed3",
   "metadata": {},
   "outputs": [
    {
     "data": {
      "text/html": [
       "<div>\n",
       "<style scoped>\n",
       "    .dataframe tbody tr th:only-of-type {\n",
       "        vertical-align: middle;\n",
       "    }\n",
       "\n",
       "    .dataframe tbody tr th {\n",
       "        vertical-align: top;\n",
       "    }\n",
       "\n",
       "    .dataframe thead th {\n",
       "        text-align: right;\n",
       "    }\n",
       "</style>\n",
       "<table border=\"1\" class=\"dataframe\">\n",
       "  <thead>\n",
       "    <tr style=\"text-align: right;\">\n",
       "      <th></th>\n",
       "      <th>min</th>\n",
       "      <th>mean</th>\n",
       "      <th>max</th>\n",
       "      <th>t+1</th>\n",
       "      <th>Asset_ID</th>\n",
       "      <th>Count</th>\n",
       "      <th>Open</th>\n",
       "      <th>High</th>\n",
       "      <th>Low</th>\n",
       "      <th>Close</th>\n",
       "      <th>Volume</th>\n",
       "      <th>VWAP</th>\n",
       "      <th>Target</th>\n",
       "      <th>time</th>\n",
       "      <th>year</th>\n",
       "      <th>month</th>\n",
       "      <th>day</th>\n",
       "      <th>hour</th>\n",
       "    </tr>\n",
       "    <tr>\n",
       "      <th>datetime</th>\n",
       "      <th></th>\n",
       "      <th></th>\n",
       "      <th></th>\n",
       "      <th></th>\n",
       "      <th></th>\n",
       "      <th></th>\n",
       "      <th></th>\n",
       "      <th></th>\n",
       "      <th></th>\n",
       "      <th></th>\n",
       "      <th></th>\n",
       "      <th></th>\n",
       "      <th></th>\n",
       "      <th></th>\n",
       "      <th></th>\n",
       "      <th></th>\n",
       "      <th></th>\n",
       "      <th></th>\n",
       "    </tr>\n",
       "  </thead>\n",
       "  <tbody>\n",
       "    <tr>\n",
       "      <th>2021-09-16 00:00:00</th>\n",
       "      <td>48096.0</td>\n",
       "      <td>48096.000000</td>\n",
       "      <td>48096.0</td>\n",
       "      <td>48128.0</td>\n",
       "      <td>1</td>\n",
       "      <td>2466.0</td>\n",
       "      <td>48128.0</td>\n",
       "      <td>48192.0</td>\n",
       "      <td>48096.0</td>\n",
       "      <td>48096.0</td>\n",
       "      <td>100.182816</td>\n",
       "      <td>48132.845372</td>\n",
       "      <td>0.001079</td>\n",
       "      <td>2021-09-16 00:00:00</td>\n",
       "      <td>2021</td>\n",
       "      <td>9</td>\n",
       "      <td>16</td>\n",
       "      <td>0</td>\n",
       "    </tr>\n",
       "    <tr>\n",
       "      <th>2021-09-16 00:01:00</th>\n",
       "      <td>48096.0</td>\n",
       "      <td>48112.000000</td>\n",
       "      <td>48128.0</td>\n",
       "      <td>48192.0</td>\n",
       "      <td>1</td>\n",
       "      <td>1757.0</td>\n",
       "      <td>48096.0</td>\n",
       "      <td>48160.0</td>\n",
       "      <td>48064.0</td>\n",
       "      <td>48128.0</td>\n",
       "      <td>64.948784</td>\n",
       "      <td>48112.135086</td>\n",
       "      <td>0.001212</td>\n",
       "      <td>2021-09-16 00:01:00</td>\n",
       "      <td>2021</td>\n",
       "      <td>9</td>\n",
       "      <td>16</td>\n",
       "      <td>0</td>\n",
       "    </tr>\n",
       "    <tr>\n",
       "      <th>2021-09-16 00:02:00</th>\n",
       "      <td>48096.0</td>\n",
       "      <td>48138.666667</td>\n",
       "      <td>48192.0</td>\n",
       "      <td>48160.0</td>\n",
       "      <td>1</td>\n",
       "      <td>2331.0</td>\n",
       "      <td>48128.0</td>\n",
       "      <td>48224.0</td>\n",
       "      <td>48064.0</td>\n",
       "      <td>48192.0</td>\n",
       "      <td>101.655800</td>\n",
       "      <td>48125.096256</td>\n",
       "      <td>0.001464</td>\n",
       "      <td>2021-09-16 00:02:00</td>\n",
       "      <td>2021</td>\n",
       "      <td>9</td>\n",
       "      <td>16</td>\n",
       "      <td>0</td>\n",
       "    </tr>\n",
       "    <tr>\n",
       "      <th>2021-09-16 00:03:00</th>\n",
       "      <td>48096.0</td>\n",
       "      <td>48144.000000</td>\n",
       "      <td>48192.0</td>\n",
       "      <td>48096.0</td>\n",
       "      <td>1</td>\n",
       "      <td>2231.0</td>\n",
       "      <td>48192.0</td>\n",
       "      <td>48224.0</td>\n",
       "      <td>48128.0</td>\n",
       "      <td>48160.0</td>\n",
       "      <td>53.992481</td>\n",
       "      <td>48174.667732</td>\n",
       "      <td>0.001517</td>\n",
       "      <td>2021-09-16 00:03:00</td>\n",
       "      <td>2021</td>\n",
       "      <td>9</td>\n",
       "      <td>16</td>\n",
       "      <td>0</td>\n",
       "    </tr>\n",
       "    <tr>\n",
       "      <th>2021-09-16 00:04:00</th>\n",
       "      <td>48096.0</td>\n",
       "      <td>48134.400000</td>\n",
       "      <td>48192.0</td>\n",
       "      <td>48064.0</td>\n",
       "      <td>1</td>\n",
       "      <td>2241.0</td>\n",
       "      <td>48160.0</td>\n",
       "      <td>48192.0</td>\n",
       "      <td>48064.0</td>\n",
       "      <td>48096.0</td>\n",
       "      <td>65.479225</td>\n",
       "      <td>48122.721662</td>\n",
       "      <td>0.001424</td>\n",
       "      <td>2021-09-16 00:04:00</td>\n",
       "      <td>2021</td>\n",
       "      <td>9</td>\n",
       "      <td>16</td>\n",
       "      <td>0</td>\n",
       "    </tr>\n",
       "  </tbody>\n",
       "</table>\n",
       "</div>"
      ],
      "text/plain": [
       "                         min          mean      max      t+1  Asset_ID   \n",
       "datetime                                                                 \n",
       "2021-09-16 00:00:00  48096.0  48096.000000  48096.0  48128.0         1  \\\n",
       "2021-09-16 00:01:00  48096.0  48112.000000  48128.0  48192.0         1   \n",
       "2021-09-16 00:02:00  48096.0  48138.666667  48192.0  48160.0         1   \n",
       "2021-09-16 00:03:00  48096.0  48144.000000  48192.0  48096.0         1   \n",
       "2021-09-16 00:04:00  48096.0  48134.400000  48192.0  48064.0         1   \n",
       "\n",
       "                      Count     Open     High      Low    Close      Volume   \n",
       "datetime                                                                      \n",
       "2021-09-16 00:00:00  2466.0  48128.0  48192.0  48096.0  48096.0  100.182816  \\\n",
       "2021-09-16 00:01:00  1757.0  48096.0  48160.0  48064.0  48128.0   64.948784   \n",
       "2021-09-16 00:02:00  2331.0  48128.0  48224.0  48064.0  48192.0  101.655800   \n",
       "2021-09-16 00:03:00  2231.0  48192.0  48224.0  48128.0  48160.0   53.992481   \n",
       "2021-09-16 00:04:00  2241.0  48160.0  48192.0  48064.0  48096.0   65.479225   \n",
       "\n",
       "                             VWAP    Target                time  year  month   \n",
       "datetime                                                                       \n",
       "2021-09-16 00:00:00  48132.845372  0.001079 2021-09-16 00:00:00  2021      9  \\\n",
       "2021-09-16 00:01:00  48112.135086  0.001212 2021-09-16 00:01:00  2021      9   \n",
       "2021-09-16 00:02:00  48125.096256  0.001464 2021-09-16 00:02:00  2021      9   \n",
       "2021-09-16 00:03:00  48174.667732  0.001517 2021-09-16 00:03:00  2021      9   \n",
       "2021-09-16 00:04:00  48122.721662  0.001424 2021-09-16 00:04:00  2021      9   \n",
       "\n",
       "                     day  hour  \n",
       "datetime                        \n",
       "2021-09-16 00:00:00   16     0  \n",
       "2021-09-16 00:01:00   16     0  \n",
       "2021-09-16 00:02:00   16     0  \n",
       "2021-09-16 00:03:00   16     0  \n",
       "2021-09-16 00:04:00   16     0  "
      ]
     },
     "execution_count": 153,
     "metadata": {},
     "output_type": "execute_result"
    }
   ],
   "source": [
    "train.head()"
   ]
  },
  {
   "cell_type": "code",
   "execution_count": 154,
   "id": "92a4ae97",
   "metadata": {},
   "outputs": [
    {
     "data": {
      "text/html": [
       "<div>\n",
       "<style scoped>\n",
       "    .dataframe tbody tr th:only-of-type {\n",
       "        vertical-align: middle;\n",
       "    }\n",
       "\n",
       "    .dataframe tbody tr th {\n",
       "        vertical-align: top;\n",
       "    }\n",
       "\n",
       "    .dataframe thead th {\n",
       "        text-align: right;\n",
       "    }\n",
       "</style>\n",
       "<table border=\"1\" class=\"dataframe\">\n",
       "  <thead>\n",
       "    <tr style=\"text-align: right;\">\n",
       "      <th></th>\n",
       "      <th>min</th>\n",
       "      <th>mean</th>\n",
       "      <th>max</th>\n",
       "      <th>t+1</th>\n",
       "      <th>Asset_ID</th>\n",
       "      <th>Count</th>\n",
       "      <th>Open</th>\n",
       "      <th>High</th>\n",
       "      <th>Low</th>\n",
       "      <th>Close</th>\n",
       "      <th>Volume</th>\n",
       "      <th>VWAP</th>\n",
       "      <th>Target</th>\n",
       "      <th>time</th>\n",
       "      <th>year</th>\n",
       "      <th>month</th>\n",
       "      <th>day</th>\n",
       "      <th>hour</th>\n",
       "    </tr>\n",
       "    <tr>\n",
       "      <th>datetime</th>\n",
       "      <th></th>\n",
       "      <th></th>\n",
       "      <th></th>\n",
       "      <th></th>\n",
       "      <th></th>\n",
       "      <th></th>\n",
       "      <th></th>\n",
       "      <th></th>\n",
       "      <th></th>\n",
       "      <th></th>\n",
       "      <th></th>\n",
       "      <th></th>\n",
       "      <th></th>\n",
       "      <th></th>\n",
       "      <th></th>\n",
       "      <th></th>\n",
       "      <th></th>\n",
       "      <th></th>\n",
       "    </tr>\n",
       "  </thead>\n",
       "  <tbody>\n",
       "    <tr>\n",
       "      <th>2021-09-20 23:56:00</th>\n",
       "      <td>42592.0</td>\n",
       "      <td>47213.721273</td>\n",
       "      <td>48768.0</td>\n",
       "      <td>42848.0</td>\n",
       "      <td>1</td>\n",
       "      <td>1940.0</td>\n",
       "      <td>42976.0</td>\n",
       "      <td>43008.0</td>\n",
       "      <td>42880.0</td>\n",
       "      <td>42912.0</td>\n",
       "      <td>56.850914</td>\n",
       "      <td>42935.489499</td>\n",
       "      <td>NaN</td>\n",
       "      <td>2021-09-20 23:56:00</td>\n",
       "      <td>2021</td>\n",
       "      <td>9</td>\n",
       "      <td>20</td>\n",
       "      <td>23</td>\n",
       "    </tr>\n",
       "    <tr>\n",
       "      <th>2021-09-20 23:57:00</th>\n",
       "      <td>42592.0</td>\n",
       "      <td>47213.114754</td>\n",
       "      <td>48768.0</td>\n",
       "      <td>42816.0</td>\n",
       "      <td>1</td>\n",
       "      <td>2026.0</td>\n",
       "      <td>42912.0</td>\n",
       "      <td>42944.0</td>\n",
       "      <td>42848.0</td>\n",
       "      <td>42848.0</td>\n",
       "      <td>80.993324</td>\n",
       "      <td>42879.576084</td>\n",
       "      <td>NaN</td>\n",
       "      <td>2021-09-20 23:57:00</td>\n",
       "      <td>2021</td>\n",
       "      <td>9</td>\n",
       "      <td>20</td>\n",
       "      <td>23</td>\n",
       "    </tr>\n",
       "    <tr>\n",
       "      <th>2021-09-20 23:58:00</th>\n",
       "      <td>42592.0</td>\n",
       "      <td>47212.503959</td>\n",
       "      <td>48768.0</td>\n",
       "      <td>43008.0</td>\n",
       "      <td>1</td>\n",
       "      <td>1986.0</td>\n",
       "      <td>42848.0</td>\n",
       "      <td>42880.0</td>\n",
       "      <td>42784.0</td>\n",
       "      <td>42816.0</td>\n",
       "      <td>65.677734</td>\n",
       "      <td>42844.090693</td>\n",
       "      <td>NaN</td>\n",
       "      <td>2021-09-20 23:58:00</td>\n",
       "      <td>2021</td>\n",
       "      <td>9</td>\n",
       "      <td>20</td>\n",
       "      <td>23</td>\n",
       "    </tr>\n",
       "    <tr>\n",
       "      <th>2021-09-20 23:59:00</th>\n",
       "      <td>42592.0</td>\n",
       "      <td>47211.920000</td>\n",
       "      <td>48768.0</td>\n",
       "      <td>43008.0</td>\n",
       "      <td>1</td>\n",
       "      <td>4047.0</td>\n",
       "      <td>42848.0</td>\n",
       "      <td>43040.0</td>\n",
       "      <td>42816.0</td>\n",
       "      <td>43008.0</td>\n",
       "      <td>138.335480</td>\n",
       "      <td>42935.761938</td>\n",
       "      <td>NaN</td>\n",
       "      <td>2021-09-20 23:59:00</td>\n",
       "      <td>2021</td>\n",
       "      <td>9</td>\n",
       "      <td>20</td>\n",
       "      <td>23</td>\n",
       "    </tr>\n",
       "    <tr>\n",
       "      <th>2021-09-21 00:00:00</th>\n",
       "      <td>42592.0</td>\n",
       "      <td>47211.336203</td>\n",
       "      <td>48768.0</td>\n",
       "      <td>NaN</td>\n",
       "      <td>1</td>\n",
       "      <td>2698.0</td>\n",
       "      <td>43008.0</td>\n",
       "      <td>43040.0</td>\n",
       "      <td>42976.0</td>\n",
       "      <td>43008.0</td>\n",
       "      <td>128.206818</td>\n",
       "      <td>43011.414052</td>\n",
       "      <td>NaN</td>\n",
       "      <td>2021-09-21 00:00:00</td>\n",
       "      <td>2021</td>\n",
       "      <td>9</td>\n",
       "      <td>21</td>\n",
       "      <td>0</td>\n",
       "    </tr>\n",
       "  </tbody>\n",
       "</table>\n",
       "</div>"
      ],
      "text/plain": [
       "                         min          mean      max      t+1  Asset_ID   \n",
       "datetime                                                                 \n",
       "2021-09-20 23:56:00  42592.0  47213.721273  48768.0  42848.0         1  \\\n",
       "2021-09-20 23:57:00  42592.0  47213.114754  48768.0  42816.0         1   \n",
       "2021-09-20 23:58:00  42592.0  47212.503959  48768.0  43008.0         1   \n",
       "2021-09-20 23:59:00  42592.0  47211.920000  48768.0  43008.0         1   \n",
       "2021-09-21 00:00:00  42592.0  47211.336203  48768.0      NaN         1   \n",
       "\n",
       "                      Count     Open     High      Low    Close      Volume   \n",
       "datetime                                                                      \n",
       "2021-09-20 23:56:00  1940.0  42976.0  43008.0  42880.0  42912.0   56.850914  \\\n",
       "2021-09-20 23:57:00  2026.0  42912.0  42944.0  42848.0  42848.0   80.993324   \n",
       "2021-09-20 23:58:00  1986.0  42848.0  42880.0  42784.0  42816.0   65.677734   \n",
       "2021-09-20 23:59:00  4047.0  42848.0  43040.0  42816.0  43008.0  138.335480   \n",
       "2021-09-21 00:00:00  2698.0  43008.0  43040.0  42976.0  43008.0  128.206818   \n",
       "\n",
       "                             VWAP  Target                time  year  month   \n",
       "datetime                                                                     \n",
       "2021-09-20 23:56:00  42935.489499     NaN 2021-09-20 23:56:00  2021      9  \\\n",
       "2021-09-20 23:57:00  42879.576084     NaN 2021-09-20 23:57:00  2021      9   \n",
       "2021-09-20 23:58:00  42844.090693     NaN 2021-09-20 23:58:00  2021      9   \n",
       "2021-09-20 23:59:00  42935.761938     NaN 2021-09-20 23:59:00  2021      9   \n",
       "2021-09-21 00:00:00  43011.414052     NaN 2021-09-21 00:00:00  2021      9   \n",
       "\n",
       "                     day  hour  \n",
       "datetime                        \n",
       "2021-09-20 23:56:00   20    23  \n",
       "2021-09-20 23:57:00   20    23  \n",
       "2021-09-20 23:58:00   20    23  \n",
       "2021-09-20 23:59:00   20    23  \n",
       "2021-09-21 00:00:00   21     0  "
      ]
     },
     "execution_count": 154,
     "metadata": {},
     "output_type": "execute_result"
    }
   ],
   "source": [
    "test.tail()"
   ]
  },
  {
   "cell_type": "code",
   "execution_count": 155,
   "id": "9461f0fc",
   "metadata": {},
   "outputs": [
    {
     "name": "stdout",
     "output_type": "stream",
     "text": [
      "<class 'pandas.core.frame.DataFrame'>\n",
      "DatetimeIndex: 1441 entries, 2021-09-20 00:00:00 to 2021-09-21 00:00:00\n",
      "Data columns (total 18 columns):\n",
      " #   Column    Non-Null Count  Dtype         \n",
      "---  ------    --------------  -----         \n",
      " 0   min       1441 non-null   float64       \n",
      " 1   mean      1441 non-null   float64       \n",
      " 2   max       1441 non-null   float64       \n",
      " 3   t+1       1440 non-null   float16       \n",
      " 4   Asset_ID  1441 non-null   int8          \n",
      " 5   Count     1441 non-null   float32       \n",
      " 6   Open      1441 non-null   float16       \n",
      " 7   High      1441 non-null   float16       \n",
      " 8   Low       1441 non-null   float16       \n",
      " 9   Close     1441 non-null   float16       \n",
      " 10  Volume    1441 non-null   float32       \n",
      " 11  VWAP      1441 non-null   float64       \n",
      " 12  Target    1425 non-null   float16       \n",
      " 13  time      1441 non-null   datetime64[ns]\n",
      " 14  year      1441 non-null   int64         \n",
      " 15  month     1441 non-null   int64         \n",
      " 16  day       1441 non-null   int64         \n",
      " 17  hour      1441 non-null   int64         \n",
      "dtypes: datetime64[ns](1), float16(6), float32(2), float64(4), int64(4), int8(1)\n",
      "memory usage: 142.1 KB\n"
     ]
    }
   ],
   "source": [
    "test.info()"
   ]
  },
  {
   "cell_type": "code",
   "execution_count": 156,
   "id": "a65880e3",
   "metadata": {},
   "outputs": [
    {
     "data": {
      "text/plain": [
       "min          0\n",
       "mean         0\n",
       "max          0\n",
       "t+1          1\n",
       "Asset_ID     0\n",
       "Count        0\n",
       "Open         0\n",
       "High         0\n",
       "Low          0\n",
       "Close        0\n",
       "Volume       0\n",
       "VWAP         0\n",
       "Target      16\n",
       "time         0\n",
       "year         0\n",
       "month        0\n",
       "day          0\n",
       "hour         0\n",
       "dtype: int64"
      ]
     },
     "execution_count": 156,
     "metadata": {},
     "output_type": "execute_result"
    }
   ],
   "source": [
    "test.isna().sum()"
   ]
  },
  {
   "cell_type": "code",
   "execution_count": 157,
   "id": "bb6252a1",
   "metadata": {},
   "outputs": [],
   "source": [
    "xgboost_series_features = combined_btc_shorter_df_for_training.columns.to_list()"
   ]
  },
  {
   "cell_type": "code",
   "execution_count": 158,
   "id": "a1983108",
   "metadata": {},
   "outputs": [],
   "source": [
    "xgboost_series_features = ['min',\n",
    " 'mean',\n",
    " 'max',\n",
    " 't+1',\n",
    " 'Count',\n",
    " 'Open',\n",
    " 'High',\n",
    " 'Low',\n",
    " 'Volume',\n",
    " 'VWAP',\n",
    " 'year',\n",
    " 'month',\n",
    " 'day',\n",
    " 'hour']\n",
    "\n",
    "xgboost_series_target = 'Close'"
   ]
  },
  {
   "cell_type": "code",
   "execution_count": 159,
   "id": "20048a60",
   "metadata": {},
   "outputs": [],
   "source": [
    "X_train = train[xgboost_series_features]\n",
    "y_train = train[xgboost_series_target]"
   ]
  },
  {
   "cell_type": "code",
   "execution_count": 160,
   "id": "62308ca9",
   "metadata": {},
   "outputs": [
    {
     "name": "stdout",
     "output_type": "stream",
     "text": [
      "<class 'pandas.core.frame.DataFrame'>\n",
      "DatetimeIndex: 5760 entries, 2021-09-16 00:00:00 to 2021-09-19 23:59:00\n",
      "Data columns (total 15 columns):\n",
      " #   Column    Non-Null Count  Dtype  \n",
      "---  ------    --------------  -----  \n",
      " 0   min       5760 non-null   float64\n",
      " 1   mean      5760 non-null   float64\n",
      " 2   max       5760 non-null   float64\n",
      " 3   t+1       5760 non-null   float16\n",
      " 4   Asset_ID  5760 non-null   int8   \n",
      " 5   Count     5760 non-null   float32\n",
      " 6   Open      5760 non-null   float16\n",
      " 7   High      5760 non-null   float16\n",
      " 8   Low       5760 non-null   float16\n",
      " 9   Volume    5760 non-null   float32\n",
      " 10  VWAP      5760 non-null   float64\n",
      " 11  year      5760 non-null   int64  \n",
      " 12  month     5760 non-null   int64  \n",
      " 13  day       5760 non-null   int64  \n",
      " 14  hour      5760 non-null   int64  \n",
      "dtypes: float16(4), float32(2), float64(4), int64(4), int8(1)\n",
      "memory usage: 500.6 KB\n"
     ]
    }
   ],
   "source": [
    "X_train.info()"
   ]
  },
  {
   "cell_type": "code",
   "execution_count": 161,
   "id": "d8d47b36",
   "metadata": {},
   "outputs": [],
   "source": [
    "X_test = test[xgboost_series_features]\n",
    "y_test = test[xgboost_series_target]"
   ]
  },
  {
   "attachments": {},
   "cell_type": "markdown",
   "id": "72d89c9d",
   "metadata": {},
   "source": [
    "# XGBOOST Training"
   ]
  },
  {
   "cell_type": "code",
   "execution_count": 162,
   "id": "26874bae",
   "metadata": {},
   "outputs": [
    {
     "name": "stdout",
     "output_type": "stream",
     "text": [
      "[05:05:23] WARNING: C:\\buildkite-agent\\builds\\buildkite-windows-cpu-autoscaling-group-i-07593ffd91cd9da33-1\\xgboost\\xgboost-ci-windows\\src\\objective\\regression_obj.cu:213: reg:linear is now deprecated in favor of reg:squarederror.\n",
      "[0]\tvalidation_0-rmse:47381.03648\tvalidation_1-rmse:44163.21261\n",
      "[100]\tvalidation_0-rmse:17350.67173\tvalidation_1-rmse:14257.88285\n",
      "[200]\tvalidation_0-rmse:6355.65141\tvalidation_1-rmse:3654.74947\n",
      "[300]\tvalidation_0-rmse:2328.76892\tvalidation_1-rmse:1248.72885\n",
      "[334]\tvalidation_0-rmse:1655.39675\tvalidation_1-rmse:1527.00952\n"
     ]
    }
   ],
   "source": [
    "model = train_xgb_regressor(X_train, y_train, X_test, y_test, use_gpu=True)"
   ]
  },
  {
   "attachments": {},
   "cell_type": "markdown",
   "id": "dcd142e4",
   "metadata": {},
   "source": [
    "# Feature Importance"
   ]
  },
  {
   "cell_type": "code",
   "execution_count": 163,
   "id": "3f4e3d00",
   "metadata": {},
   "outputs": [
    {
     "data": {
      "image/png": "[encoded data removed]",
      "text/plain": [
       "<Figure size 640x480 with 1 Axes>"
      ]
     },
     "metadata": {},
     "output_type": "display_data"
    }
   ],
   "source": [
    "plot_feature_importance(model)"
   ]
  },
  {
   "attachments": {},
   "cell_type": "markdown",
   "id": "8e3b76f6",
   "metadata": {},
   "source": [
    "# XGBOOST Inference on Test set\n",
    "\n",
    "Here I just adding the prediction column to the existing dataframe"
   ]
  },
  {
   "cell_type": "code",
   "execution_count": 164,
   "id": "bf306409",
   "metadata": {},
   "outputs": [
    {
     "name": "stderr",
     "output_type": "stream",
     "text": [
      "C:\\Users\\PC60\\AppData\\Local\\Temp\\ipykernel_10028\\3961864123.py:1: SettingWithCopyWarning:\n",
      "\n",
      "\n",
      "A value is trying to be set on a copy of a slice from a DataFrame.\n",
      "Try using .loc[row_indexer,col_indexer] = value instead\n",
      "\n",
      "See the caveats in the documentation: https://pandas.pydata.org/pandas-docs/stable/user_guide/indexing.html#returning-a-view-versus-a-copy\n",
      "\n"
     ]
    },
    {
     "data": {
      "text/html": [
       "<div>\n",
       "<style scoped>\n",
       "    .dataframe tbody tr th:only-of-type {\n",
       "        vertical-align: middle;\n",
       "    }\n",
       "\n",
       "    .dataframe tbody tr th {\n",
       "        vertical-align: top;\n",
       "    }\n",
       "\n",
       "    .dataframe thead th {\n",
       "        text-align: right;\n",
       "    }\n",
       "</style>\n",
       "<table border=\"1\" class=\"dataframe\">\n",
       "  <thead>\n",
       "    <tr style=\"text-align: right;\">\n",
       "      <th></th>\n",
       "      <th>min</th>\n",
       "      <th>mean</th>\n",
       "      <th>max</th>\n",
       "      <th>t+1</th>\n",
       "      <th>Asset_ID</th>\n",
       "      <th>Count</th>\n",
       "      <th>Open</th>\n",
       "      <th>High</th>\n",
       "      <th>Low</th>\n",
       "      <th>Close</th>\n",
       "      <th>Volume</th>\n",
       "      <th>VWAP</th>\n",
       "      <th>Target</th>\n",
       "      <th>time</th>\n",
       "      <th>year</th>\n",
       "      <th>month</th>\n",
       "      <th>day</th>\n",
       "      <th>hour</th>\n",
       "      <th>prediction</th>\n",
       "    </tr>\n",
       "    <tr>\n",
       "      <th>datetime</th>\n",
       "      <th></th>\n",
       "      <th></th>\n",
       "      <th></th>\n",
       "      <th></th>\n",
       "      <th></th>\n",
       "      <th></th>\n",
       "      <th></th>\n",
       "      <th></th>\n",
       "      <th></th>\n",
       "      <th></th>\n",
       "      <th></th>\n",
       "      <th></th>\n",
       "      <th></th>\n",
       "      <th></th>\n",
       "      <th></th>\n",
       "      <th></th>\n",
       "      <th></th>\n",
       "      <th></th>\n",
       "      <th></th>\n",
       "    </tr>\n",
       "  </thead>\n",
       "  <tbody>\n",
       "    <tr>\n",
       "      <th>2021-09-20 23:59:00</th>\n",
       "      <td>42592.0</td>\n",
       "      <td>47211.920000</td>\n",
       "      <td>48768.0</td>\n",
       "      <td>43008.0</td>\n",
       "      <td>1</td>\n",
       "      <td>4047.0</td>\n",
       "      <td>42848.0</td>\n",
       "      <td>43040.0</td>\n",
       "      <td>42816.0</td>\n",
       "      <td>43008.0</td>\n",
       "      <td>138.335480</td>\n",
       "      <td>42935.761938</td>\n",
       "      <td>NaN</td>\n",
       "      <td>2021-09-20 23:59:00</td>\n",
       "      <td>2021</td>\n",
       "      <td>9</td>\n",
       "      <td>20</td>\n",
       "      <td>23</td>\n",
       "      <td>44620.859375</td>\n",
       "    </tr>\n",
       "    <tr>\n",
       "      <th>2021-09-21 00:00:00</th>\n",
       "      <td>42592.0</td>\n",
       "      <td>47211.336203</td>\n",
       "      <td>48768.0</td>\n",
       "      <td>NaN</td>\n",
       "      <td>1</td>\n",
       "      <td>2698.0</td>\n",
       "      <td>43008.0</td>\n",
       "      <td>43040.0</td>\n",
       "      <td>42976.0</td>\n",
       "      <td>43008.0</td>\n",
       "      <td>128.206818</td>\n",
       "      <td>43011.414052</td>\n",
       "      <td>NaN</td>\n",
       "      <td>2021-09-21 00:00:00</td>\n",
       "      <td>2021</td>\n",
       "      <td>9</td>\n",
       "      <td>21</td>\n",
       "      <td>0</td>\n",
       "      <td>44787.269531</td>\n",
       "    </tr>\n",
       "  </tbody>\n",
       "</table>\n",
       "</div>"
      ],
      "text/plain": [
       "                         min          mean      max      t+1  Asset_ID   \n",
       "datetime                                                                 \n",
       "2021-09-20 23:59:00  42592.0  47211.920000  48768.0  43008.0         1  \\\n",
       "2021-09-21 00:00:00  42592.0  47211.336203  48768.0      NaN         1   \n",
       "\n",
       "                      Count     Open     High      Low    Close      Volume   \n",
       "datetime                                                                      \n",
       "2021-09-20 23:59:00  4047.0  42848.0  43040.0  42816.0  43008.0  138.335480  \\\n",
       "2021-09-21 00:00:00  2698.0  43008.0  43040.0  42976.0  43008.0  128.206818   \n",
       "\n",
       "                             VWAP  Target                time  year  month   \n",
       "datetime                                                                     \n",
       "2021-09-20 23:59:00  42935.761938     NaN 2021-09-20 23:59:00  2021      9  \\\n",
       "2021-09-21 00:00:00  43011.414052     NaN 2021-09-21 00:00:00  2021      9   \n",
       "\n",
       "                     day  hour    prediction  \n",
       "datetime                                      \n",
       "2021-09-20 23:59:00   20    23  44620.859375  \n",
       "2021-09-21 00:00:00   21     0  44787.269531  "
      ]
     },
     "execution_count": 164,
     "metadata": {},
     "output_type": "execute_result"
    }
   ],
   "source": [
    "test['prediction'] = model.predict(X_test)\n",
    "\n",
    "df = combined_btc_shorter_df_for_training.merge(test[['prediction']], how='left', left_index=True, right_index=True)\n",
    "\n",
    "df.tail(2)"
   ]
  },
  {
   "cell_type": "code",
   "execution_count": null,
   "id": "c23cd552",
   "metadata": {},
   "outputs": [],
   "source": [
    "\n",
    "ax = df[['Close']].plot(figsize=(15, 5))\n",
    "\n",
    "df['prediction'].plot(ax=ax, style='.')\n",
    "plt.legend(['Ground Truth Data', 'Predictions'])\n",
    "ax.set_title('Actual Past Data and Prediction')\n",
    "plt.show()"
   ]
  }
 ],
 "metadata": {
  "kernelspec": {
   "display_name": "Python 3",
   "language": "python",
   "name": "python3"
  },
  "language_info": {
   "codemirror_mode": {
    "name": "ipython",
    "version": 3
   },
   "file_extension": ".py",
   "mimetype": "text/x-python",
   "name": "python",
   "nbconvert_exporter": "python",
   "pygments_lexer": "ipython3",
   "version": "3.10.9"
  },
  "papermill": {
   "default_parameters": {},
   "duration": 273.780574,
   "end_time": "2022-01-27T14:53:46.549456",
   "environment_variables": {},
   "exception": null,
   "input_path": "__notebook__.ipynb",
   "output_path": "__notebook__.ipynb",
   "parameters": {},
   "start_time": "2022-01-27T14:49:12.768882",
   "version": "2.3.3"
  }
 },
 "nbformat": 4,
 "nbformat_minor": 5
}
